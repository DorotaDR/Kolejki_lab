{
 "cells": [
  {
   "cell_type": "code",
   "execution_count": 6,
   "metadata": {
    "id": "Myz9L5HJEwl4"
   },
   "outputs": [
    {
     "ename": "RuntimeError",
     "evalue": "The current Numpy installation ('C:\\\\Users\\\\Dorotka\\\\anaconda3\\\\envs\\\\kolejki\\\\lib\\\\site-packages\\\\numpy\\\\__init__.py') fails to pass a sanity check due to a bug in the windows runtime. See this issue for more information: https://tinyurl.com/y3dm3h86",
     "output_type": "error",
     "traceback": [
      "\u001b[1;31m---------------------------------------------------------------------------\u001b[0m",
      "\u001b[1;31mRuntimeError\u001b[0m                              Traceback (most recent call last)",
      "\u001b[1;32m<ipython-input-6-4fe5c0b72067>\u001b[0m in \u001b[0;36m<module>\u001b[1;34m\u001b[0m\n\u001b[1;32m----> 1\u001b[1;33m \u001b[1;32mimport\u001b[0m \u001b[0mnumpy\u001b[0m \u001b[1;32mas\u001b[0m \u001b[0mnp\u001b[0m\u001b[1;33m\u001b[0m\u001b[1;33m\u001b[0m\u001b[0m\n\u001b[0m\u001b[0;32m      2\u001b[0m \u001b[1;32mimport\u001b[0m \u001b[0mpandas\u001b[0m \u001b[1;32mas\u001b[0m \u001b[0mpd\u001b[0m\u001b[1;33m\u001b[0m\u001b[1;33m\u001b[0m\u001b[0m\n\u001b[0;32m      3\u001b[0m \u001b[1;33m\u001b[0m\u001b[0m\n\u001b[0;32m      4\u001b[0m \u001b[1;32mfrom\u001b[0m \u001b[0mIPython\u001b[0m\u001b[1;33m.\u001b[0m\u001b[0mdisplay\u001b[0m \u001b[1;32mimport\u001b[0m \u001b[0mdisplay\u001b[0m\u001b[1;33m\u001b[0m\u001b[1;33m\u001b[0m\u001b[0m\n",
      "\u001b[1;32m~\\anaconda3\\envs\\kolejki\\lib\\site-packages\\numpy\\__init__.py\u001b[0m in \u001b[0;36m<module>\u001b[1;34m\u001b[0m\n\u001b[0;32m    303\u001b[0m \u001b[1;33m\u001b[0m\u001b[0m\n\u001b[0;32m    304\u001b[0m     \u001b[1;32mif\u001b[0m \u001b[0msys\u001b[0m\u001b[1;33m.\u001b[0m\u001b[0mplatform\u001b[0m \u001b[1;33m==\u001b[0m \u001b[1;34m\"win32\"\u001b[0m \u001b[1;32mand\u001b[0m \u001b[0msys\u001b[0m\u001b[1;33m.\u001b[0m\u001b[0mmaxsize\u001b[0m \u001b[1;33m>\u001b[0m \u001b[1;36m2\u001b[0m\u001b[1;33m**\u001b[0m\u001b[1;36m32\u001b[0m\u001b[1;33m:\u001b[0m\u001b[1;33m\u001b[0m\u001b[1;33m\u001b[0m\u001b[0m\n\u001b[1;32m--> 305\u001b[1;33m         \u001b[0m_win_os_check\u001b[0m\u001b[1;33m(\u001b[0m\u001b[1;33m)\u001b[0m\u001b[1;33m\u001b[0m\u001b[1;33m\u001b[0m\u001b[0m\n\u001b[0m\u001b[0;32m    306\u001b[0m \u001b[1;33m\u001b[0m\u001b[0m\n\u001b[0;32m    307\u001b[0m     \u001b[1;32mdel\u001b[0m \u001b[0m_win_os_check\u001b[0m\u001b[1;33m\u001b[0m\u001b[1;33m\u001b[0m\u001b[0m\n",
      "\u001b[1;32m~\\anaconda3\\envs\\kolejki\\lib\\site-packages\\numpy\\__init__.py\u001b[0m in \u001b[0;36m_win_os_check\u001b[1;34m()\u001b[0m\n\u001b[0;32m    300\u001b[0m                    \u001b[1;34m\"See this issue for more information: \"\u001b[0m\u001b[1;33m\u001b[0m\u001b[1;33m\u001b[0m\u001b[0m\n\u001b[0;32m    301\u001b[0m                    \"https://tinyurl.com/y3dm3h86\")\n\u001b[1;32m--> 302\u001b[1;33m             \u001b[1;32mraise\u001b[0m \u001b[0mRuntimeError\u001b[0m\u001b[1;33m(\u001b[0m\u001b[0mmsg\u001b[0m\u001b[1;33m.\u001b[0m\u001b[0mformat\u001b[0m\u001b[1;33m(\u001b[0m\u001b[0m__file__\u001b[0m\u001b[1;33m)\u001b[0m\u001b[1;33m)\u001b[0m \u001b[1;32mfrom\u001b[0m \u001b[1;32mNone\u001b[0m\u001b[1;33m\u001b[0m\u001b[1;33m\u001b[0m\u001b[0m\n\u001b[0m\u001b[0;32m    303\u001b[0m \u001b[1;33m\u001b[0m\u001b[0m\n\u001b[0;32m    304\u001b[0m     \u001b[1;32mif\u001b[0m \u001b[0msys\u001b[0m\u001b[1;33m.\u001b[0m\u001b[0mplatform\u001b[0m \u001b[1;33m==\u001b[0m \u001b[1;34m\"win32\"\u001b[0m \u001b[1;32mand\u001b[0m \u001b[0msys\u001b[0m\u001b[1;33m.\u001b[0m\u001b[0mmaxsize\u001b[0m \u001b[1;33m>\u001b[0m \u001b[1;36m2\u001b[0m\u001b[1;33m**\u001b[0m\u001b[1;36m32\u001b[0m\u001b[1;33m:\u001b[0m\u001b[1;33m\u001b[0m\u001b[1;33m\u001b[0m\u001b[0m\n",
      "\u001b[1;31mRuntimeError\u001b[0m: The current Numpy installation ('C:\\\\Users\\\\Dorotka\\\\anaconda3\\\\envs\\\\kolejki\\\\lib\\\\site-packages\\\\numpy\\\\__init__.py') fails to pass a sanity check due to a bug in the windows runtime. See this issue for more information: https://tinyurl.com/y3dm3h86"
     ]
    }
   ],
   "source": [
    "import numpy as np\n",
    "import pandas as pd\n",
    "\n",
    "from IPython.display import display\n"
   ]
  },
  {
   "cell_type": "code",
   "execution_count": 5,
   "metadata": {},
   "outputs": [
    {
     "name": "stdout",
     "output_type": "stream",
     "text": [
      "Collecting numpy\n",
      "  Downloading numpy-1.19.5-cp38-cp38-win_amd64.whl (13.3 MB)\n",
      "Installing collected packages: numpy\n",
      "Successfully installed numpy-1.19.5\n"
     ]
    }
   ],
   "source": [
    "!pip install numpy"
   ]
  },
  {
   "cell_type": "markdown",
   "metadata": {
    "id": "Wf77XGuASBbF"
   },
   "source": [
    "## Przepustowość każdej klasy w każdym systemie"
   ]
  },
  {
   "cell_type": "code",
   "execution_count": null,
   "metadata": {
    "id": "rmmevFPnm0DZ"
   },
   "outputs": [],
   "source": [
    "def calculate_lambdas_ir(p_table, lambda_we):\n",
    "  ilosc_kolejek = p_table.shape[1] - 2 #odejmujemy wejscie i wyjscie\n",
    "  A = np.zeros((ilosc_kolejek, ilosc_kolejek))\n",
    "  np.fill_diagonal(A, 1)\n",
    "  b = lambda_we * p_table[0][1:-1]\n",
    "  for row_i, p_row in enumerate(p_table):\n",
    "    if row_i >=1 and row_i<=A.shape[0]:\n",
    "      A[row_i -1] = A[row_i -1] - p_table[row_i][1:-1]\n",
    "    \n",
    "  A = np.transpose(A)\n",
    "  return np.linalg.solve(A, b)"
   ]
  },
  {
   "cell_type": "code",
   "execution_count": null,
   "metadata": {
    "id": "3HovFq6XHcch"
   },
   "outputs": [],
   "source": [
    "columns = [\"Wejście\",\n",
    "           \"Lądowanie\",\n",
    "          \"Przegląd\",\n",
    "          \"Serwis\",\n",
    "          \"Tankowanie\",\n",
    "          \"Pasażerowie\",\n",
    "          \"Wylot\", \n",
    "           \"Wyjscie\"]\n"
   ]
  },
  {
   "cell_type": "markdown",
   "metadata": {
    "id": "BYiXin_hnBNx"
   },
   "source": [
    "## Klasa: Samoloty Krótkodystansowe r = 0 "
   ]
  },
  {
   "cell_type": "code",
   "execution_count": null,
   "metadata": {
    "colab": {
     "base_uri": "https://localhost:8080/",
     "height": 484
    },
    "id": "WPOA18Foko74",
    "outputId": "4ebf4d85-3636-4eac-f6b7-ced126230063"
   },
   "outputs": [],
   "source": [
    "p_shortdist = np.zeros((len(columns), len(columns)))\n",
    "p_shortdist[0][1] = 1\n",
    "p_shortdist[1][2] = 1\n",
    "p_shortdist[2][3] = 0.1\n",
    "p_shortdist[2][4] = 0.2\n",
    "p_shortdist[2][5] = 0.7\n",
    "p_shortdist[3][2] = 1\n",
    "p_shortdist[4][5] = 1\n",
    "p_shortdist[5][6] = 1\n",
    "p_shortdist[6][7] = 1\n",
    "\n",
    "df_p_shortdist = pd.DataFrame(p_shortdist, columns = columns, index = columns)\n",
    "display(df_p_shortdist)\n",
    "print(\"\\n Sprawdzanie sumy wierszami\")\n",
    "display(df_p_shortdist.sum(axis=1))"
   ]
  },
  {
   "cell_type": "code",
   "execution_count": null,
   "metadata": {
    "colab": {
     "base_uri": "https://localhost:8080/",
     "height": 680
    },
    "id": "9J1g9Gyn3I9S",
    "outputId": "f12bb417-550c-4df4-a7d3-287f43b4ee56"
   },
   "outputs": [],
   "source": [
    "import pandas as pd\n",
    "import seaborn as sns\n",
    "import matplotlib.pyplot as plt\n",
    "\n",
    "sns.set(rc={'figure.figsize':(14, 10)})\n",
    "sns.set(font_scale=1.8)\n",
    "\n",
    "sns.heatmap(df_p_shortdist, annot=True, fmt=\"g\", cmap = \"rocket_r\")\n",
    "plt.title(\"Klasa: Samoloty Krótkodystansowe\")\n",
    "plt.show()"
   ]
  },
  {
   "cell_type": "markdown",
   "metadata": {
    "id": "PwOA9IKqnIM5"
   },
   "source": [
    "## Klasa: Samoloty Długodystansowe, `r=1`"
   ]
  },
  {
   "cell_type": "code",
   "execution_count": null,
   "metadata": {
    "colab": {
     "base_uri": "https://localhost:8080/",
     "height": 484
    },
    "id": "E3mwsm8FchNk",
    "outputId": "9c714d56-6ef7-40f9-ffc3-fefad154cab7"
   },
   "outputs": [],
   "source": [
    "p_longdist = np.zeros((len(columns), len(columns)))\n",
    "p_longdist[0][1] = 1\n",
    "p_longdist[1][2] = 1\n",
    "p_longdist[2][3] = 0.1\n",
    "p_longdist[2][4] = 0.9\n",
    "p_longdist[3][2] = 1\n",
    "p_longdist[4][5] = 1\n",
    "p_longdist[5][6] = 1\n",
    "p_longdist[6][7] = 1\n",
    "\n",
    "df_p_longdist = pd.DataFrame(p_longdist, columns = columns, index = columns)\n",
    "display(df_p_longdist)\n",
    "print(\"\\n Sprawdzanie sumy wierszami\")\n",
    "display(df_p_longdist.sum(axis=1))"
   ]
  },
  {
   "cell_type": "code",
   "execution_count": null,
   "metadata": {
    "colab": {
     "base_uri": "https://localhost:8080/",
     "height": 678
    },
    "id": "UnzEoS8844Fc",
    "outputId": "1b6a5b3f-b16b-4b21-d60d-b0d3f4db3e1a"
   },
   "outputs": [],
   "source": [
    "import pandas as pd\n",
    "import seaborn as sns\n",
    "import matplotlib.pyplot as plt\n",
    "\n",
    "sns.set(rc={'figure.figsize':(14, 10)})\n",
    "sns.set(font_scale=1.8)\n",
    "\n",
    "sns.heatmap(df_p_longdist, annot=True, fmt=\"g\", cmap = \"rocket_r\")\n",
    "plt.title(\"Klasa: Samoloty Długodystansowe\")\n",
    "\n",
    "plt.show()"
   ]
  },
  {
   "cell_type": "markdown",
   "metadata": {
    "id": "yi3DEyqEnMWp"
   },
   "source": [
    "## Klasa: Samoloty Towarowe `r=2`"
   ]
  },
  {
   "cell_type": "code",
   "execution_count": null,
   "metadata": {
    "id": "Ab2D_s5Sn4qY"
   },
   "outputs": [],
   "source": [
    "columns = [\"Wejście\",\n",
    "           \"Lądowanie\",\n",
    "          \"Przegląd\",\n",
    "          \"Serwis\",\n",
    "          \"Tankowanie\",\n",
    "          \"Towary\",\n",
    "          \"Wylot\", \n",
    "           \"Wyjscie\"]"
   ]
  },
  {
   "cell_type": "code",
   "execution_count": null,
   "metadata": {
    "colab": {
     "base_uri": "https://localhost:8080/",
     "height": 484
    },
    "id": "2VpWX9vzm-_X",
    "outputId": "54b015d3-0c74-4131-e4ca-91b90b12f60d"
   },
   "outputs": [],
   "source": [
    "p_transport = np.zeros((len(columns), len(columns)))\n",
    "p_transport[0][1] = 1\n",
    "p_transport[1][2] = 1\n",
    "p_transport[2][3] = 0.1\n",
    "p_transport[2][4] = 0.7\n",
    "p_transport[2][5] = 0.2\n",
    "p_transport[3][2] = 1\n",
    "p_transport[4][5] = 1\n",
    "p_transport[5][6] = 1\n",
    "p_transport[6][7] = 1\n",
    "\n",
    "df_p_transport = pd.DataFrame(p_transport, columns = columns, index = columns)\n",
    "display(df_p_transport)\n",
    "print(\"\\n Sprawdzanie sumy wierszami\")\n",
    "display(df_p_transport.sum(axis=1))"
   ]
  },
  {
   "cell_type": "code",
   "execution_count": null,
   "metadata": {
    "colab": {
     "base_uri": "https://localhost:8080/",
     "height": 678
    },
    "id": "3SMGxbTD5D_v",
    "outputId": "19f9668a-503d-4228-f82d-d83723016b0c"
   },
   "outputs": [],
   "source": [
    "sns.set(rc={'figure.figsize':(14, 10)})\n",
    "sns.set(font_scale=1.8)\n",
    "\n",
    "sns.heatmap(df_p_transport, annot=True, fmt=\"g\", cmap = \"rocket_r\")\n",
    "plt.title(\"Klasa: Samoloty Transportowe\")\n",
    "\n",
    "plt.show()"
   ]
  },
  {
   "cell_type": "markdown",
   "metadata": {
    "id": "XjgJ-cyZoc7s"
   },
   "source": [
    "## LAMBDAS "
   ]
  },
  {
   "cell_type": "code",
   "execution_count": null,
   "metadata": {
    "colab": {
     "base_uri": "https://localhost:8080/",
     "height": 1000
    },
    "id": "2Vnx0KUiofO5",
    "outputId": "2c228c93-1a4f-4b33-b968-24180333f695"
   },
   "outputs": [],
   "source": [
    "lambda_we_r = [1.8, 1.2, 1]\n",
    "lambdas_ir_list = []\n",
    "p_tables_r = [p_shortdist, p_longdist, p_transport]\n",
    "for p_table, lambda_we in zip(p_tables_r, lambda_we_r):\n",
    "  print(\"---------------\")\n",
    "  print(\"lambda = \", lambda_we)\n",
    "  display(pd.DataFrame(p_table))\n",
    "  lambdas_ir = calculate_lambdas_ir(p_table, lambda_we)\n",
    "\n",
    "  print(\"Przepustowość tej klasy lambda_ir = \", lambdas_ir)\n",
    "  print(\"\\n\")\n",
    "\n",
    "  lambdas_ir_list.append(lambdas_ir)"
   ]
  },
  {
   "cell_type": "markdown",
   "metadata": {
    "id": "9xnmva8E408y"
   },
   "source": [
    "#### Uzupełnianie lambdas_ir o systemy, ktore nie dotycza danej klasy \n",
    "\n"
   ]
  },
  {
   "cell_type": "code",
   "execution_count": null,
   "metadata": {
    "colab": {
     "base_uri": "https://localhost:8080/"
    },
    "id": "ewbBUvomCtUB",
    "outputId": "76a506ac-4531-4a74-c782-57402c87fd5d"
   },
   "outputs": [],
   "source": [
    "lambdas_ir_arr = np.zeros((7, 3))\n",
    "lambdas_ir_arr"
   ]
  },
  {
   "cell_type": "code",
   "execution_count": null,
   "metadata": {
    "colab": {
     "base_uri": "https://localhost:8080/"
    },
    "id": "Wd37rIvjo17V",
    "outputId": "87ab898f-08f0-4659-f2ba-a607fe1d2250"
   },
   "outputs": [],
   "source": [
    "for i in range(7):\n",
    "  for r in range(3):\n",
    "    lambdas_i = lambdas_ir_list[r]\n",
    "    if r<=1: \n",
    "      #pasażerskie \n",
    "      if i < 5:\n",
    "        lambdas_ir_arr[i][r] = lambdas_i[i]\n",
    "      elif i == 5:\n",
    "        lambdas_ir_arr[6][r] = lambdas_i[i]\n",
    "\n",
    "    elif r==2: \n",
    "      #towarowe \n",
    "      if i < 4:\n",
    "        lambdas_ir_arr[i][r] = lambdas_i[i]\n",
    "      elif i >=4 and i <6 :\n",
    "        lambdas_ir_arr[i+1][r] = lambdas_i[i]\n",
    "\n",
    "lambdas_ir_arr"
   ]
  },
  {
   "cell_type": "markdown",
   "metadata": {
    "id": "QYjeRSuzU90g"
   },
   "source": [
    "Zera w tabeli `lambdas_ir_arr` oznaczają, że klasa nie korzysta z tego systemu/stanowiska. \n",
    "\n"
   ]
  },
  {
   "cell_type": "markdown",
   "metadata": {
    "id": "LNidjybBxicX"
   },
   "source": [
    "## Liczba stanowisk: "
   ]
  },
  {
   "cell_type": "code",
   "execution_count": null,
   "metadata": {
    "colab": {
     "base_uri": "https://localhost:8080/"
    },
    "id": "uAY0vWd111vx",
    "outputId": "9a501362-9801-4d8b-9a38-b03af1a04c27"
   },
   "outputs": [],
   "source": [
    "\n",
    "m_i = [2, #0 pasy ladowania\n",
    "       6, #1 przeglad\n",
    "       2, #2 serwisowe stanowska\n",
    "       5, #3 tankowanie\n",
    "       3, #4 pasazerowie\n",
    "       2, #5 towary\n",
    "       3]  #6 pasy wylotu\n",
    "\n",
    "\n",
    "len(m_i)\n"
   ]
  },
  {
   "cell_type": "markdown",
   "metadata": {
    "id": "6XKuafSrVULp"
   },
   "source": [
    "Pewne przyjęte wartości mi dla każdej klasy `r` i stanowska `i`. "
   ]
  },
  {
   "cell_type": "code",
   "execution_count": null,
   "metadata": {
    "colab": {
     "base_uri": "https://localhost:8080/"
    },
    "id": "tXDdkWKk11zk",
    "outputId": "a86b7302-eca7-4ded-d6d7-0e7137bba2bf"
   },
   "outputs": [],
   "source": [
    "# mi = 1/czas obslugi (h) \n",
    "\n",
    "mi_ir = np.zeros([7,3])\n",
    "mi_ir[0,:] = np.array([4, 4, 4])\n",
    "mi_ir[1,:] = np.array([1, 0.8, 1])\n",
    "mi_ir[2,:] = np.array([0.25, 0.2, 0.3])\n",
    "mi_ir[3,:] = np.array([3, 3/2, 2])\n",
    "mi_ir[4,:] = np.array([3/2, 1, 0])\n",
    "mi_ir[5,:] = np.array([0, 0, 2])\n",
    "mi_ir[6,:] = np.array([2, 2, 2])\n",
    "\n",
    "mi_ir"
   ]
  },
  {
   "cell_type": "markdown",
   "metadata": {
    "id": "Qt0Nexr3A-x2"
   },
   "source": [
    "##  Względna intensywność obsługi każdej klasy w każdym systemie `ro_ir`\n"
   ]
  },
  {
   "cell_type": "code",
   "execution_count": null,
   "metadata": {
    "colab": {
     "base_uri": "https://localhost:8080/"
    },
    "id": "_qidpLKw12CN",
    "outputId": "68a8b132-fff3-4aa0-d364-783facc3b454"
   },
   "outputs": [],
   "source": [
    "ro_ir = np.zeros([7,3])\n",
    "\n",
    "\n",
    "for i in range(7):\n",
    "  for r in range(3):\n",
    "    ro_ir[i][r] = lambdas_ir_arr[i][r]/(m_i[i] * mi_ir[i][r])\n",
    "\n",
    "ro_ir"
   ]
  },
  {
   "cell_type": "markdown",
   "metadata": {
    "id": "JjYwL86pVp2J"
   },
   "source": []
  },
  {
   "cell_type": "markdown",
   "metadata": {
    "id": "s7oE9RLWzMKQ"
   },
   "source": [
    "## Średni czas obsługi samoloty\n",
    "\n",
    "`nan` oznacza, że nie samoloty r-tej klasy nie są obługiwane przez i-te stanowsko"
   ]
  },
  {
   "cell_type": "code",
   "execution_count": null,
   "metadata": {
    "id": "qB7QF6Ln_iLU"
   },
   "outputs": [],
   "source": [
    "def single_Q_ir(i, r, m_i, ro_i):\n",
    "    x = ro_ir[i][r]/(1-ro_i)\n",
    "    y = (m_i[i] * ro_i)**m_i[i]/(np.math.factorial(m_i[i])*(1-ro_i))\n",
    "\n",
    "    temp_list = [(m_i[i]*ro_i)**ki/np.math.factorial(ki) for ki in range(m_i[i]-1)]\n",
    "      \n",
    "    z = 1/(sum(temp_list) + (m_i[i]*ro_i)**m_i[i]/np.math.factorial(m_i[i]) * (1/(1-ro_i)))\n",
    "\n",
    "    return  x*z*y"
   ]
  },
  {
   "cell_type": "code",
   "execution_count": null,
   "metadata": {
    "colab": {
     "base_uri": "https://localhost:8080/"
    },
    "id": "I9ERCIwEVEdV",
    "outputId": "63f67932-2012-41a9-917c-9275661d0a6b"
   },
   "outputs": [],
   "source": [
    "Q_ir = np.zeros((7,3))\n",
    "\n",
    "for i in range(7):\n",
    "  ro_i = np.nan_to_num(ro_ir)[i].sum()\n",
    "  for r in range(3):\n",
    "    Q_ir[i][r] = single_Q_ir(i, r, m_i, ro_i)\n",
    "    # if r <2:\n",
    "    #   if i!= 5:\n",
    "    #     #pasazerskie bez towarow\n",
    "    #     Q_ir[i][r] = single_Q_ir(i, r, m_i, ro_i)\n",
    "    #   else:\n",
    "    #       Q_ir[i][r] = 0\n",
    "    # elif r==2:\n",
    "    #   if i!= 4:\n",
    "    #     print(ro_i, i)\n",
    "    #     #towarowe\n",
    "    #     Q_ir[i][r] = single_Q_ir(i, r, m_i, ro_i)\n",
    "    #   else:\n",
    "    #     Q_ir[i][r] = 0\n",
    "\n",
    "Q_ir\n"
   ]
  },
  {
   "cell_type": "markdown",
   "metadata": {
    "id": "aVdm0Q7WZfj0"
   },
   "source": [
    "## Średnie liczby zgłoszeń klasy `r` w każdym systemie `i`\n",
    "\n",
    "`nan` oznacza, że nie samoloty r-tej klasy nie są obługiwane przez i-te stanowsko\n",
    "\n"
   ]
  },
  {
   "cell_type": "code",
   "execution_count": null,
   "metadata": {
    "id": "TVFG34XM-MDk"
   },
   "outputs": [],
   "source": [
    "K_ir = np.zeros((7,3))\n",
    "\n",
    "for i in range(7):\n",
    "  for r in range(3):\n",
    "    K_ir[i][r] = m_i[i]* ro_ir[i][r] + Q_ir[i][r]"
   ]
  },
  {
   "cell_type": "code",
   "execution_count": null,
   "metadata": {
    "colab": {
     "base_uri": "https://localhost:8080/"
    },
    "id": "Us5IQccG-MIa",
    "outputId": "4aa76952-750e-46c2-bbe7-3bb53af7c5e2"
   },
   "outputs": [],
   "source": [
    "K_ir"
   ]
  },
  {
   "cell_type": "markdown",
   "metadata": {
    "id": "Ar4HWTZsEaM7"
   },
   "source": [
    "## OPTYMALIZACJA"
   ]
  },
  {
   "cell_type": "code",
   "execution_count": null,
   "metadata": {
    "colab": {
     "base_uri": "https://localhost:8080/"
    },
    "id": "cGiW5IXSFHrw",
    "outputId": "47911078-518a-4267-9f61-ec8b0785e944"
   },
   "outputs": [],
   "source": [
    "m_nzi = []\n",
    "for i in range(7):\n",
    "  ro_i = np.nan_to_num(ro_ir)[i].sum()\n",
    "  m_nzi.append(m_i[i] - m_i[i]*ro_i)\n",
    "\n",
    "m_nzi"
   ]
  },
  {
   "cell_type": "code",
   "execution_count": null,
   "metadata": {
    "colab": {
     "base_uri": "https://localhost:8080/"
    },
    "id": "wxav6HnYHv-v",
    "outputId": "eb9c9283-9f8c-4eda-8877-0788bead7a9a"
   },
   "outputs": [],
   "source": [
    "C1_ij = np.random.normal(size=(7, 3))\n",
    "C1_ij"
   ]
  },
  {
   "cell_type": "code",
   "execution_count": null,
   "metadata": {
    "colab": {
     "base_uri": "https://localhost:8080/"
    },
    "id": "WnlSeymgIF5q",
    "outputId": "71126354-5735-4c71-e75e-07751e840378"
   },
   "outputs": [],
   "source": [
    "C2_i = abs(np.random.normal(size=(7)))\n",
    "\n",
    "C2_i"
   ]
  },
  {
   "cell_type": "markdown",
   "metadata": {
    "id": "o0dkdeOWZuIm"
   },
   "source": [
    "### Funcja kosztów do optymalizacji (min) "
   ]
  },
  {
   "cell_type": "code",
   "execution_count": null,
   "metadata": {
    "id": "U_DUC7lcEcB0"
   },
   "outputs": [],
   "source": [
    "def f_cost(m_nzi, Q_ir, C1_ij, C2_i, r=3):\n",
    "  costs = np.zeros((len(m_nzi), r))\n",
    "  for i in range(len(m_nzi)):\n",
    "    for j in range(r):\n",
    "      costs[i][j] = C1_ij[i][j] * Q_ir[i][j] + C2_i[i] * m_nzi[i]\n",
    "\n",
    "  return sum(sum(np.nan_to_num(costs)))\n"
   ]
  },
  {
   "cell_type": "code",
   "execution_count": null,
   "metadata": {
    "colab": {
     "base_uri": "https://localhost:8080/"
    },
    "id": "9fS0-06-GYA0",
    "outputId": "1d9783a1-40e3-48bc-9b7b-a0d09e1c25df"
   },
   "outputs": [],
   "source": [
    "f_cost(m_nzi, Q_ir, C1_ij, C2_i)"
   ]
  },
  {
   "cell_type": "code",
   "execution_count": null,
   "metadata": {
    "colab": {
     "base_uri": "https://localhost:8080/"
    },
    "id": "oYsZ1bWAGlDW",
    "outputId": "722696bf-d06c-4515-bb11-7c76095ce0a7"
   },
   "outputs": [],
   "source": [
    "i = 2\n",
    "j = 2\n",
    "C1_ij[i][j] * Q_ir[i][j] + C2_i[i] * m_nzi[i]"
   ]
  },
  {
   "cell_type": "code",
   "execution_count": null,
   "metadata": {
    "colab": {
     "base_uri": "https://localhost:8080/"
    },
    "id": "X8qE0K5sJaea",
    "outputId": "f008d081-39bf-42f7-e1e5-a5db45124c49"
   },
   "outputs": [],
   "source": [
    "C2_i[2]"
   ]
  },
  {
   "cell_type": "code",
   "execution_count": null,
   "metadata": {
    "colab": {
     "base_uri": "https://localhost:8080/"
    },
    "id": "hj8ppRKOJlXu",
    "outputId": "b8690ad6-10ec-4108-96ef-b068bc74ed2d"
   },
   "outputs": [],
   "source": [
    "C2_i"
   ]
  },
  {
   "cell_type": "code",
   "execution_count": null,
   "metadata": {
    "id": "L-0JhHQ8JtNt"
   },
   "outputs": [],
   "source": []
  }
 ],
 "metadata": {
  "colab": {
   "collapsed_sections": [],
   "name": "Siec_kolejkowa.ipynb",
   "provenance": [],
   "toc_visible": true
  },
  "kernelspec": {
   "display_name": "Python 3",
   "language": "python",
   "name": "python3"
  },
  "language_info": {
   "codemirror_mode": {
    "name": "ipython",
    "version": 3
   },
   "file_extension": ".py",
   "mimetype": "text/x-python",
   "name": "python",
   "nbconvert_exporter": "python",
   "pygments_lexer": "ipython3",
   "version": "3.8.5"
  }
 },
 "nbformat": 4,
 "nbformat_minor": 1
}
