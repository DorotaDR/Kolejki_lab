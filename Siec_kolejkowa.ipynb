{
  "nbformat": 4,
  "nbformat_minor": 0,
  "metadata": {
    "colab": {
      "name": "Siec_kolejkowa.ipynb",
      "provenance": [],
      "collapsed_sections": [],
      "toc_visible": true
    },
    "kernelspec": {
      "name": "python3",
      "display_name": "Python 3"
    }
  },
  "cells": [
    {
      "cell_type": "code",
      "metadata": {
        "id": "Myz9L5HJEwl4"
      },
      "source": [
        "import numpy as np\n",
        "import pandas as pd\n",
        "\n",
        "from IPython.display import display\n"
      ],
      "execution_count": 2,
      "outputs": []
    },
    {
      "cell_type": "markdown",
      "metadata": {
        "id": "Wf77XGuASBbF"
      },
      "source": [
        "## Przepustowość każdej klasy w każdym systemie"
      ]
    },
    {
      "cell_type": "code",
      "metadata": {
        "id": "rmmevFPnm0DZ"
      },
      "source": [
        "def calculate_lambdas_ir(p_table, lambda_we):\r\n",
        "  ilosc_kolejek = p_table.shape[1] - 2 #odejmujemy wejscie i wyjscie\r\n",
        "  A = np.zeros((ilosc_kolejek, ilosc_kolejek))\r\n",
        "  np.fill_diagonal(A, 1)\r\n",
        "  b = lambda_we * p_table[0][1:-1]\r\n",
        "  for row_i, p_row in enumerate(p_table):\r\n",
        "    if row_i >=1 and row_i<=A.shape[0]:\r\n",
        "      A[row_i -1] = A[row_i -1] - p_table[row_i][1:-1]\r\n",
        "    \r\n",
        "  A = np.transpose(A)\r\n",
        "  return np.linalg.solve(A, b)"
      ],
      "execution_count": 3,
      "outputs": []
    },
    {
      "cell_type": "code",
      "metadata": {
        "id": "3HovFq6XHcch"
      },
      "source": [
        "columns = [\"Wejście\",\n",
        "           \"Lądowanie\",\n",
        "          \"Przegląd\",\n",
        "          \"Serwis\",\n",
        "          \"Tankowanie\",\n",
        "          \"Pasażerowie\",\n",
        "          \"Wylot\", \n",
        "           \"Wyjscie\"]\n"
      ],
      "execution_count": 4,
      "outputs": []
    },
    {
      "cell_type": "markdown",
      "metadata": {
        "id": "BYiXin_hnBNx"
      },
      "source": [
        "## Klasa: Samoloty Krótkodystansowe r = 0 "
      ]
    },
    {
      "cell_type": "code",
      "metadata": {
        "colab": {
          "base_uri": "https://localhost:8080/",
          "height": 484
        },
        "id": "WPOA18Foko74",
        "outputId": "4ebf4d85-3636-4eac-f6b7-ced126230063"
      },
      "source": [
        "p_shortdist = np.zeros((len(columns), len(columns)))\r\n",
        "p_shortdist[0][1] = 1\r\n",
        "p_shortdist[1][2] = 1\r\n",
        "p_shortdist[2][3] = 0.1\r\n",
        "p_shortdist[2][4] = 0.2\r\n",
        "p_shortdist[2][5] = 0.7\r\n",
        "p_shortdist[3][2] = 1\r\n",
        "p_shortdist[4][5] = 1\r\n",
        "p_shortdist[5][6] = 1\r\n",
        "p_shortdist[6][7] = 1\r\n",
        "\r\n",
        "df_p_shortdist = pd.DataFrame(p_shortdist, columns = columns, index = columns)\r\n",
        "display(df_p_shortdist)\r\n",
        "print(\"\\n Sprawdzanie sumy wierszami\")\r\n",
        "display(df_p_shortdist.sum(axis=1))"
      ],
      "execution_count": 5,
      "outputs": [
        {
          "output_type": "display_data",
          "data": {
            "text/html": [
              "<div>\n",
              "<style scoped>\n",
              "    .dataframe tbody tr th:only-of-type {\n",
              "        vertical-align: middle;\n",
              "    }\n",
              "\n",
              "    .dataframe tbody tr th {\n",
              "        vertical-align: top;\n",
              "    }\n",
              "\n",
              "    .dataframe thead th {\n",
              "        text-align: right;\n",
              "    }\n",
              "</style>\n",
              "<table border=\"1\" class=\"dataframe\">\n",
              "  <thead>\n",
              "    <tr style=\"text-align: right;\">\n",
              "      <th></th>\n",
              "      <th>Wejście</th>\n",
              "      <th>Lądowanie</th>\n",
              "      <th>Przegląd</th>\n",
              "      <th>Serwis</th>\n",
              "      <th>Tankowanie</th>\n",
              "      <th>Pasażerowie</th>\n",
              "      <th>Wylot</th>\n",
              "      <th>Wyjscie</th>\n",
              "    </tr>\n",
              "  </thead>\n",
              "  <tbody>\n",
              "    <tr>\n",
              "      <th>Wejście</th>\n",
              "      <td>0.0</td>\n",
              "      <td>1.0</td>\n",
              "      <td>0.0</td>\n",
              "      <td>0.0</td>\n",
              "      <td>0.0</td>\n",
              "      <td>0.0</td>\n",
              "      <td>0.0</td>\n",
              "      <td>0.0</td>\n",
              "    </tr>\n",
              "    <tr>\n",
              "      <th>Lądowanie</th>\n",
              "      <td>0.0</td>\n",
              "      <td>0.0</td>\n",
              "      <td>1.0</td>\n",
              "      <td>0.0</td>\n",
              "      <td>0.0</td>\n",
              "      <td>0.0</td>\n",
              "      <td>0.0</td>\n",
              "      <td>0.0</td>\n",
              "    </tr>\n",
              "    <tr>\n",
              "      <th>Przegląd</th>\n",
              "      <td>0.0</td>\n",
              "      <td>0.0</td>\n",
              "      <td>0.0</td>\n",
              "      <td>0.1</td>\n",
              "      <td>0.2</td>\n",
              "      <td>0.7</td>\n",
              "      <td>0.0</td>\n",
              "      <td>0.0</td>\n",
              "    </tr>\n",
              "    <tr>\n",
              "      <th>Serwis</th>\n",
              "      <td>0.0</td>\n",
              "      <td>0.0</td>\n",
              "      <td>1.0</td>\n",
              "      <td>0.0</td>\n",
              "      <td>0.0</td>\n",
              "      <td>0.0</td>\n",
              "      <td>0.0</td>\n",
              "      <td>0.0</td>\n",
              "    </tr>\n",
              "    <tr>\n",
              "      <th>Tankowanie</th>\n",
              "      <td>0.0</td>\n",
              "      <td>0.0</td>\n",
              "      <td>0.0</td>\n",
              "      <td>0.0</td>\n",
              "      <td>0.0</td>\n",
              "      <td>1.0</td>\n",
              "      <td>0.0</td>\n",
              "      <td>0.0</td>\n",
              "    </tr>\n",
              "    <tr>\n",
              "      <th>Pasażerowie</th>\n",
              "      <td>0.0</td>\n",
              "      <td>0.0</td>\n",
              "      <td>0.0</td>\n",
              "      <td>0.0</td>\n",
              "      <td>0.0</td>\n",
              "      <td>0.0</td>\n",
              "      <td>1.0</td>\n",
              "      <td>0.0</td>\n",
              "    </tr>\n",
              "    <tr>\n",
              "      <th>Wylot</th>\n",
              "      <td>0.0</td>\n",
              "      <td>0.0</td>\n",
              "      <td>0.0</td>\n",
              "      <td>0.0</td>\n",
              "      <td>0.0</td>\n",
              "      <td>0.0</td>\n",
              "      <td>0.0</td>\n",
              "      <td>1.0</td>\n",
              "    </tr>\n",
              "    <tr>\n",
              "      <th>Wyjscie</th>\n",
              "      <td>0.0</td>\n",
              "      <td>0.0</td>\n",
              "      <td>0.0</td>\n",
              "      <td>0.0</td>\n",
              "      <td>0.0</td>\n",
              "      <td>0.0</td>\n",
              "      <td>0.0</td>\n",
              "      <td>0.0</td>\n",
              "    </tr>\n",
              "  </tbody>\n",
              "</table>\n",
              "</div>"
            ],
            "text/plain": [
              "             Wejście  Lądowanie  Przegląd  ...  Pasażerowie  Wylot  Wyjscie\n",
              "Wejście          0.0        1.0       0.0  ...          0.0    0.0      0.0\n",
              "Lądowanie        0.0        0.0       1.0  ...          0.0    0.0      0.0\n",
              "Przegląd         0.0        0.0       0.0  ...          0.7    0.0      0.0\n",
              "Serwis           0.0        0.0       1.0  ...          0.0    0.0      0.0\n",
              "Tankowanie       0.0        0.0       0.0  ...          1.0    0.0      0.0\n",
              "Pasażerowie      0.0        0.0       0.0  ...          0.0    1.0      0.0\n",
              "Wylot            0.0        0.0       0.0  ...          0.0    0.0      1.0\n",
              "Wyjscie          0.0        0.0       0.0  ...          0.0    0.0      0.0\n",
              "\n",
              "[8 rows x 8 columns]"
            ]
          },
          "metadata": {
            "tags": []
          }
        },
        {
          "output_type": "stream",
          "text": [
            "\n",
            " Sprawdzanie sumy wierszami\n"
          ],
          "name": "stdout"
        },
        {
          "output_type": "display_data",
          "data": {
            "text/plain": [
              "Wejście        1.0\n",
              "Lądowanie      1.0\n",
              "Przegląd       1.0\n",
              "Serwis         1.0\n",
              "Tankowanie     1.0\n",
              "Pasażerowie    1.0\n",
              "Wylot          1.0\n",
              "Wyjscie        0.0\n",
              "dtype: float64"
            ]
          },
          "metadata": {
            "tags": []
          }
        }
      ]
    },
    {
      "cell_type": "code",
      "metadata": {
        "colab": {
          "base_uri": "https://localhost:8080/",
          "height": 680
        },
        "id": "9J1g9Gyn3I9S",
        "outputId": "f12bb417-550c-4df4-a7d3-287f43b4ee56"
      },
      "source": [
        "import pandas as pd\r\n",
        "import seaborn as sns\r\n",
        "import matplotlib.pyplot as plt\r\n",
        "\r\n",
        "sns.set(rc={'figure.figsize':(14, 10)})\r\n",
        "sns.set(font_scale=1.8)\r\n",
        "\r\n",
        "sns.heatmap(df_p_shortdist, annot=True, fmt=\"g\", cmap = \"rocket_r\")\r\n",
        "plt.title(\"Klasa: Samoloty Krótkodystansowe\")\r\n",
        "plt.show()"
      ],
      "execution_count": 6,
      "outputs": [
        {
          "output_type": "display_data",
          "data": {
            "image/png": "[encoded data removed]",
            "text/plain": [
              "<Figure size 1008x720 with 2 Axes>"
            ]
          },
          "metadata": {
            "tags": []
          }
        }
      ]
    },
    {
      "cell_type": "markdown",
      "metadata": {
        "id": "PwOA9IKqnIM5"
      },
      "source": [
        "## Klasa: Samoloty Długodystansowe, `r=1`"
      ]
    },
    {
      "cell_type": "code",
      "metadata": {
        "colab": {
          "base_uri": "https://localhost:8080/",
          "height": 484
        },
        "id": "E3mwsm8FchNk",
        "outputId": "9c714d56-6ef7-40f9-ffc3-fefad154cab7"
      },
      "source": [
        "p_longdist = np.zeros((len(columns), len(columns)))\r\n",
        "p_longdist[0][1] = 1\r\n",
        "p_longdist[1][2] = 1\r\n",
        "p_longdist[2][3] = 0.1\r\n",
        "p_longdist[2][4] = 0.9\r\n",
        "p_longdist[3][2] = 1\r\n",
        "p_longdist[4][5] = 1\r\n",
        "p_longdist[5][6] = 1\r\n",
        "p_longdist[6][7] = 1\r\n",
        "\r\n",
        "df_p_longdist = pd.DataFrame(p_longdist, columns = columns, index = columns)\r\n",
        "display(df_p_longdist)\r\n",
        "print(\"\\n Sprawdzanie sumy wierszami\")\r\n",
        "display(df_p_longdist.sum(axis=1))"
      ],
      "execution_count": 7,
      "outputs": [
        {
          "output_type": "display_data",
          "data": {
            "text/html": [
              "<div>\n",
              "<style scoped>\n",
              "    .dataframe tbody tr th:only-of-type {\n",
              "        vertical-align: middle;\n",
              "    }\n",
              "\n",
              "    .dataframe tbody tr th {\n",
              "        vertical-align: top;\n",
              "    }\n",
              "\n",
              "    .dataframe thead th {\n",
              "        text-align: right;\n",
              "    }\n",
              "</style>\n",
              "<table border=\"1\" class=\"dataframe\">\n",
              "  <thead>\n",
              "    <tr style=\"text-align: right;\">\n",
              "      <th></th>\n",
              "      <th>Wejście</th>\n",
              "      <th>Lądowanie</th>\n",
              "      <th>Przegląd</th>\n",
              "      <th>Serwis</th>\n",
              "      <th>Tankowanie</th>\n",
              "      <th>Pasażerowie</th>\n",
              "      <th>Wylot</th>\n",
              "      <th>Wyjscie</th>\n",
              "    </tr>\n",
              "  </thead>\n",
              "  <tbody>\n",
              "    <tr>\n",
              "      <th>Wejście</th>\n",
              "      <td>0.0</td>\n",
              "      <td>1.0</td>\n",
              "      <td>0.0</td>\n",
              "      <td>0.0</td>\n",
              "      <td>0.0</td>\n",
              "      <td>0.0</td>\n",
              "      <td>0.0</td>\n",
              "      <td>0.0</td>\n",
              "    </tr>\n",
              "    <tr>\n",
              "      <th>Lądowanie</th>\n",
              "      <td>0.0</td>\n",
              "      <td>0.0</td>\n",
              "      <td>1.0</td>\n",
              "      <td>0.0</td>\n",
              "      <td>0.0</td>\n",
              "      <td>0.0</td>\n",
              "      <td>0.0</td>\n",
              "      <td>0.0</td>\n",
              "    </tr>\n",
              "    <tr>\n",
              "      <th>Przegląd</th>\n",
              "      <td>0.0</td>\n",
              "      <td>0.0</td>\n",
              "      <td>0.0</td>\n",
              "      <td>0.1</td>\n",
              "      <td>0.9</td>\n",
              "      <td>0.0</td>\n",
              "      <td>0.0</td>\n",
              "      <td>0.0</td>\n",
              "    </tr>\n",
              "    <tr>\n",
              "      <th>Serwis</th>\n",
              "      <td>0.0</td>\n",
              "      <td>0.0</td>\n",
              "      <td>1.0</td>\n",
              "      <td>0.0</td>\n",
              "      <td>0.0</td>\n",
              "      <td>0.0</td>\n",
              "      <td>0.0</td>\n",
              "      <td>0.0</td>\n",
              "    </tr>\n",
              "    <tr>\n",
              "      <th>Tankowanie</th>\n",
              "      <td>0.0</td>\n",
              "      <td>0.0</td>\n",
              "      <td>0.0</td>\n",
              "      <td>0.0</td>\n",
              "      <td>0.0</td>\n",
              "      <td>1.0</td>\n",
              "      <td>0.0</td>\n",
              "      <td>0.0</td>\n",
              "    </tr>\n",
              "    <tr>\n",
              "      <th>Pasażerowie</th>\n",
              "      <td>0.0</td>\n",
              "      <td>0.0</td>\n",
              "      <td>0.0</td>\n",
              "      <td>0.0</td>\n",
              "      <td>0.0</td>\n",
              "      <td>0.0</td>\n",
              "      <td>1.0</td>\n",
              "      <td>0.0</td>\n",
              "    </tr>\n",
              "    <tr>\n",
              "      <th>Wylot</th>\n",
              "      <td>0.0</td>\n",
              "      <td>0.0</td>\n",
              "      <td>0.0</td>\n",
              "      <td>0.0</td>\n",
              "      <td>0.0</td>\n",
              "      <td>0.0</td>\n",
              "      <td>0.0</td>\n",
              "      <td>1.0</td>\n",
              "    </tr>\n",
              "    <tr>\n",
              "      <th>Wyjscie</th>\n",
              "      <td>0.0</td>\n",
              "      <td>0.0</td>\n",
              "      <td>0.0</td>\n",
              "      <td>0.0</td>\n",
              "      <td>0.0</td>\n",
              "      <td>0.0</td>\n",
              "      <td>0.0</td>\n",
              "      <td>0.0</td>\n",
              "    </tr>\n",
              "  </tbody>\n",
              "</table>\n",
              "</div>"
            ],
            "text/plain": [
              "             Wejście  Lądowanie  Przegląd  ...  Pasażerowie  Wylot  Wyjscie\n",
              "Wejście          0.0        1.0       0.0  ...          0.0    0.0      0.0\n",
              "Lądowanie        0.0        0.0       1.0  ...          0.0    0.0      0.0\n",
              "Przegląd         0.0        0.0       0.0  ...          0.0    0.0      0.0\n",
              "Serwis           0.0        0.0       1.0  ...          0.0    0.0      0.0\n",
              "Tankowanie       0.0        0.0       0.0  ...          1.0    0.0      0.0\n",
              "Pasażerowie      0.0        0.0       0.0  ...          0.0    1.0      0.0\n",
              "Wylot            0.0        0.0       0.0  ...          0.0    0.0      1.0\n",
              "Wyjscie          0.0        0.0       0.0  ...          0.0    0.0      0.0\n",
              "\n",
              "[8 rows x 8 columns]"
            ]
          },
          "metadata": {
            "tags": []
          }
        },
        {
          "output_type": "stream",
          "text": [
            "\n",
            " Sprawdzanie sumy wierszami\n"
          ],
          "name": "stdout"
        },
        {
          "output_type": "display_data",
          "data": {
            "text/plain": [
              "Wejście        1.0\n",
              "Lądowanie      1.0\n",
              "Przegląd       1.0\n",
              "Serwis         1.0\n",
              "Tankowanie     1.0\n",
              "Pasażerowie    1.0\n",
              "Wylot          1.0\n",
              "Wyjscie        0.0\n",
              "dtype: float64"
            ]
          },
          "metadata": {
            "tags": []
          }
        }
      ]
    },
    {
      "cell_type": "code",
      "metadata": {
        "colab": {
          "base_uri": "https://localhost:8080/",
          "height": 678
        },
        "id": "UnzEoS8844Fc",
        "outputId": "1b6a5b3f-b16b-4b21-d60d-b0d3f4db3e1a"
      },
      "source": [
        "import pandas as pd\r\n",
        "import seaborn as sns\r\n",
        "import matplotlib.pyplot as plt\r\n",
        "\r\n",
        "sns.set(rc={'figure.figsize':(14, 10)})\r\n",
        "sns.set(font_scale=1.8)\r\n",
        "\r\n",
        "sns.heatmap(df_p_longdist, annot=True, fmt=\"g\", cmap = \"rocket_r\")\r\n",
        "plt.title(\"Klasa: Samoloty Długodystansowe\")\r\n",
        "\r\n",
        "plt.show()"
      ],
      "execution_count": 8,
      "outputs": [
        {
          "output_type": "display_data",
          "data": {
            "image/png": "[encoded data removed]",
            "text/plain": [
              "<Figure size 1008x720 with 2 Axes>"
            ]
          },
          "metadata": {
            "tags": []
          }
        }
      ]
    },
    {
      "cell_type": "markdown",
      "metadata": {
        "id": "yi3DEyqEnMWp"
      },
      "source": [
        "## Klasa: Samoloty Towarowe `r=2`"
      ]
    },
    {
      "cell_type": "code",
      "metadata": {
        "id": "Ab2D_s5Sn4qY"
      },
      "source": [
        "columns = [\"Wejście\",\r\n",
        "           \"Lądowanie\",\r\n",
        "          \"Przegląd\",\r\n",
        "          \"Serwis\",\r\n",
        "          \"Tankowanie\",\r\n",
        "          \"Towary\",\r\n",
        "          \"Wylot\", \r\n",
        "           \"Wyjscie\"]"
      ],
      "execution_count": 9,
      "outputs": []
    },
    {
      "cell_type": "code",
      "metadata": {
        "colab": {
          "base_uri": "https://localhost:8080/",
          "height": 484
        },
        "id": "2VpWX9vzm-_X",
        "outputId": "54b015d3-0c74-4131-e4ca-91b90b12f60d"
      },
      "source": [
        "p_transport = np.zeros((len(columns), len(columns)))\r\n",
        "p_transport[0][1] = 1\r\n",
        "p_transport[1][2] = 1\r\n",
        "p_transport[2][3] = 0.1\r\n",
        "p_transport[2][4] = 0.7\r\n",
        "p_transport[2][5] = 0.2\r\n",
        "p_transport[3][2] = 1\r\n",
        "p_transport[4][5] = 1\r\n",
        "p_transport[5][6] = 1\r\n",
        "p_transport[6][7] = 1\r\n",
        "\r\n",
        "df_p_transport = pd.DataFrame(p_transport, columns = columns, index = columns)\r\n",
        "display(df_p_transport)\r\n",
        "print(\"\\n Sprawdzanie sumy wierszami\")\r\n",
        "display(df_p_transport.sum(axis=1))"
      ],
      "execution_count": 10,
      "outputs": [
        {
          "output_type": "display_data",
          "data": {
            "text/html": [
              "<div>\n",
              "<style scoped>\n",
              "    .dataframe tbody tr th:only-of-type {\n",
              "        vertical-align: middle;\n",
              "    }\n",
              "\n",
              "    .dataframe tbody tr th {\n",
              "        vertical-align: top;\n",
              "    }\n",
              "\n",
              "    .dataframe thead th {\n",
              "        text-align: right;\n",
              "    }\n",
              "</style>\n",
              "<table border=\"1\" class=\"dataframe\">\n",
              "  <thead>\n",
              "    <tr style=\"text-align: right;\">\n",
              "      <th></th>\n",
              "      <th>Wejście</th>\n",
              "      <th>Lądowanie</th>\n",
              "      <th>Przegląd</th>\n",
              "      <th>Serwis</th>\n",
              "      <th>Tankowanie</th>\n",
              "      <th>Towary</th>\n",
              "      <th>Wylot</th>\n",
              "      <th>Wyjscie</th>\n",
              "    </tr>\n",
              "  </thead>\n",
              "  <tbody>\n",
              "    <tr>\n",
              "      <th>Wejście</th>\n",
              "      <td>0.0</td>\n",
              "      <td>1.0</td>\n",
              "      <td>0.0</td>\n",
              "      <td>0.0</td>\n",
              "      <td>0.0</td>\n",
              "      <td>0.0</td>\n",
              "      <td>0.0</td>\n",
              "      <td>0.0</td>\n",
              "    </tr>\n",
              "    <tr>\n",
              "      <th>Lądowanie</th>\n",
              "      <td>0.0</td>\n",
              "      <td>0.0</td>\n",
              "      <td>1.0</td>\n",
              "      <td>0.0</td>\n",
              "      <td>0.0</td>\n",
              "      <td>0.0</td>\n",
              "      <td>0.0</td>\n",
              "      <td>0.0</td>\n",
              "    </tr>\n",
              "    <tr>\n",
              "      <th>Przegląd</th>\n",
              "      <td>0.0</td>\n",
              "      <td>0.0</td>\n",
              "      <td>0.0</td>\n",
              "      <td>0.1</td>\n",
              "      <td>0.7</td>\n",
              "      <td>0.2</td>\n",
              "      <td>0.0</td>\n",
              "      <td>0.0</td>\n",
              "    </tr>\n",
              "    <tr>\n",
              "      <th>Serwis</th>\n",
              "      <td>0.0</td>\n",
              "      <td>0.0</td>\n",
              "      <td>1.0</td>\n",
              "      <td>0.0</td>\n",
              "      <td>0.0</td>\n",
              "      <td>0.0</td>\n",
              "      <td>0.0</td>\n",
              "      <td>0.0</td>\n",
              "    </tr>\n",
              "    <tr>\n",
              "      <th>Tankowanie</th>\n",
              "      <td>0.0</td>\n",
              "      <td>0.0</td>\n",
              "      <td>0.0</td>\n",
              "      <td>0.0</td>\n",
              "      <td>0.0</td>\n",
              "      <td>1.0</td>\n",
              "      <td>0.0</td>\n",
              "      <td>0.0</td>\n",
              "    </tr>\n",
              "    <tr>\n",
              "      <th>Towary</th>\n",
              "      <td>0.0</td>\n",
              "      <td>0.0</td>\n",
              "      <td>0.0</td>\n",
              "      <td>0.0</td>\n",
              "      <td>0.0</td>\n",
              "      <td>0.0</td>\n",
              "      <td>1.0</td>\n",
              "      <td>0.0</td>\n",
              "    </tr>\n",
              "    <tr>\n",
              "      <th>Wylot</th>\n",
              "      <td>0.0</td>\n",
              "      <td>0.0</td>\n",
              "      <td>0.0</td>\n",
              "      <td>0.0</td>\n",
              "      <td>0.0</td>\n",
              "      <td>0.0</td>\n",
              "      <td>0.0</td>\n",
              "      <td>1.0</td>\n",
              "    </tr>\n",
              "    <tr>\n",
              "      <th>Wyjscie</th>\n",
              "      <td>0.0</td>\n",
              "      <td>0.0</td>\n",
              "      <td>0.0</td>\n",
              "      <td>0.0</td>\n",
              "      <td>0.0</td>\n",
              "      <td>0.0</td>\n",
              "      <td>0.0</td>\n",
              "      <td>0.0</td>\n",
              "    </tr>\n",
              "  </tbody>\n",
              "</table>\n",
              "</div>"
            ],
            "text/plain": [
              "            Wejście  Lądowanie  Przegląd  ...  Towary  Wylot  Wyjscie\n",
              "Wejście         0.0        1.0       0.0  ...     0.0    0.0      0.0\n",
              "Lądowanie       0.0        0.0       1.0  ...     0.0    0.0      0.0\n",
              "Przegląd        0.0        0.0       0.0  ...     0.2    0.0      0.0\n",
              "Serwis          0.0        0.0       1.0  ...     0.0    0.0      0.0\n",
              "Tankowanie      0.0        0.0       0.0  ...     1.0    0.0      0.0\n",
              "Towary          0.0        0.0       0.0  ...     0.0    1.0      0.0\n",
              "Wylot           0.0        0.0       0.0  ...     0.0    0.0      1.0\n",
              "Wyjscie         0.0        0.0       0.0  ...     0.0    0.0      0.0\n",
              "\n",
              "[8 rows x 8 columns]"
            ]
          },
          "metadata": {
            "tags": []
          }
        },
        {
          "output_type": "stream",
          "text": [
            "\n",
            " Sprawdzanie sumy wierszami\n"
          ],
          "name": "stdout"
        },
        {
          "output_type": "display_data",
          "data": {
            "text/plain": [
              "Wejście       1.0\n",
              "Lądowanie     1.0\n",
              "Przegląd      1.0\n",
              "Serwis        1.0\n",
              "Tankowanie    1.0\n",
              "Towary        1.0\n",
              "Wylot         1.0\n",
              "Wyjscie       0.0\n",
              "dtype: float64"
            ]
          },
          "metadata": {
            "tags": []
          }
        }
      ]
    },
    {
      "cell_type": "code",
      "metadata": {
        "colab": {
          "base_uri": "https://localhost:8080/",
          "height": 678
        },
        "id": "3SMGxbTD5D_v",
        "outputId": "19f9668a-503d-4228-f82d-d83723016b0c"
      },
      "source": [
        "sns.set(rc={'figure.figsize':(14, 10)})\r\n",
        "sns.set(font_scale=1.8)\r\n",
        "\r\n",
        "sns.heatmap(df_p_transport, annot=True, fmt=\"g\", cmap = \"rocket_r\")\r\n",
        "plt.title(\"Klasa: Samoloty Transportowe\")\r\n",
        "\r\n",
        "plt.show()"
      ],
      "execution_count": 11,
      "outputs": [
        {
          "output_type": "display_data",
          "data": {
            "image/png": "[encoded data removed]",
            "text/plain": [
              "<Figure size 1008x720 with 2 Axes>"
            ]
          },
          "metadata": {
            "tags": []
          }
        }
      ]
    },
    {
      "cell_type": "markdown",
      "metadata": {
        "id": "XjgJ-cyZoc7s"
      },
      "source": [
        "## LAMBDAS "
      ]
    },
    {
      "cell_type": "code",
      "metadata": {
        "colab": {
          "base_uri": "https://localhost:8080/",
          "height": 1000
        },
        "id": "2Vnx0KUiofO5",
        "outputId": "2c228c93-1a4f-4b33-b968-24180333f695"
      },
      "source": [
        "lambda_we_r = [1.8, 1.2, 1]\r\n",
        "lambdas_ir_list = []\r\n",
        "p_tables_r = [p_shortdist, p_longdist, p_transport]\r\n",
        "for p_table, lambda_we in zip(p_tables_r, lambda_we_r):\r\n",
        "  print(\"---------------\")\r\n",
        "  print(\"lambda = \", lambda_we)\r\n",
        "  display(pd.DataFrame(p_table))\r\n",
        "  lambdas_ir = calculate_lambdas_ir(p_table, lambda_we)\r\n",
        "\r\n",
        "  print(\"Przepustowość tej klasy lambda_ir = \", lambdas_ir)\r\n",
        "  print(\"\\n\")\r\n",
        "\r\n",
        "  lambdas_ir_list.append(lambdas_ir)"
      ],
      "execution_count": 12,
      "outputs": [
        {
          "output_type": "stream",
          "text": [
            "---------------\n",
            "lambda =  1.8\n"
          ],
          "name": "stdout"
        },
        {
          "output_type": "display_data",
          "data": {
            "text/html": [
              "<div>\n",
              "<style scoped>\n",
              "    .dataframe tbody tr th:only-of-type {\n",
              "        vertical-align: middle;\n",
              "    }\n",
              "\n",
              "    .dataframe tbody tr th {\n",
              "        vertical-align: top;\n",
              "    }\n",
              "\n",
              "    .dataframe thead th {\n",
              "        text-align: right;\n",
              "    }\n",
              "</style>\n",
              "<table border=\"1\" class=\"dataframe\">\n",
              "  <thead>\n",
              "    <tr style=\"text-align: right;\">\n",
              "      <th></th>\n",
              "      <th>0</th>\n",
              "      <th>1</th>\n",
              "      <th>2</th>\n",
              "      <th>3</th>\n",
              "      <th>4</th>\n",
              "      <th>5</th>\n",
              "      <th>6</th>\n",
              "      <th>7</th>\n",
              "    </tr>\n",
              "  </thead>\n",
              "  <tbody>\n",
              "    <tr>\n",
              "      <th>0</th>\n",
              "      <td>0.0</td>\n",
              "      <td>1.0</td>\n",
              "      <td>0.0</td>\n",
              "      <td>0.0</td>\n",
              "      <td>0.0</td>\n",
              "      <td>0.0</td>\n",
              "      <td>0.0</td>\n",
              "      <td>0.0</td>\n",
              "    </tr>\n",
              "    <tr>\n",
              "      <th>1</th>\n",
              "      <td>0.0</td>\n",
              "      <td>0.0</td>\n",
              "      <td>1.0</td>\n",
              "      <td>0.0</td>\n",
              "      <td>0.0</td>\n",
              "      <td>0.0</td>\n",
              "      <td>0.0</td>\n",
              "      <td>0.0</td>\n",
              "    </tr>\n",
              "    <tr>\n",
              "      <th>2</th>\n",
              "      <td>0.0</td>\n",
              "      <td>0.0</td>\n",
              "      <td>0.0</td>\n",
              "      <td>0.1</td>\n",
              "      <td>0.2</td>\n",
              "      <td>0.7</td>\n",
              "      <td>0.0</td>\n",
              "      <td>0.0</td>\n",
              "    </tr>\n",
              "    <tr>\n",
              "      <th>3</th>\n",
              "      <td>0.0</td>\n",
              "      <td>0.0</td>\n",
              "      <td>1.0</td>\n",
              "      <td>0.0</td>\n",
              "      <td>0.0</td>\n",
              "      <td>0.0</td>\n",
              "      <td>0.0</td>\n",
              "      <td>0.0</td>\n",
              "    </tr>\n",
              "    <tr>\n",
              "      <th>4</th>\n",
              "      <td>0.0</td>\n",
              "      <td>0.0</td>\n",
              "      <td>0.0</td>\n",
              "      <td>0.0</td>\n",
              "      <td>0.0</td>\n",
              "      <td>1.0</td>\n",
              "      <td>0.0</td>\n",
              "      <td>0.0</td>\n",
              "    </tr>\n",
              "    <tr>\n",
              "      <th>5</th>\n",
              "      <td>0.0</td>\n",
              "      <td>0.0</td>\n",
              "      <td>0.0</td>\n",
              "      <td>0.0</td>\n",
              "      <td>0.0</td>\n",
              "      <td>0.0</td>\n",
              "      <td>1.0</td>\n",
              "      <td>0.0</td>\n",
              "    </tr>\n",
              "    <tr>\n",
              "      <th>6</th>\n",
              "      <td>0.0</td>\n",
              "      <td>0.0</td>\n",
              "      <td>0.0</td>\n",
              "      <td>0.0</td>\n",
              "      <td>0.0</td>\n",
              "      <td>0.0</td>\n",
              "      <td>0.0</td>\n",
              "      <td>1.0</td>\n",
              "    </tr>\n",
              "    <tr>\n",
              "      <th>7</th>\n",
              "      <td>0.0</td>\n",
              "      <td>0.0</td>\n",
              "      <td>0.0</td>\n",
              "      <td>0.0</td>\n",
              "      <td>0.0</td>\n",
              "      <td>0.0</td>\n",
              "      <td>0.0</td>\n",
              "      <td>0.0</td>\n",
              "    </tr>\n",
              "  </tbody>\n",
              "</table>\n",
              "</div>"
            ],
            "text/plain": [
              "     0    1    2    3    4    5    6    7\n",
              "0  0.0  1.0  0.0  0.0  0.0  0.0  0.0  0.0\n",
              "1  0.0  0.0  1.0  0.0  0.0  0.0  0.0  0.0\n",
              "2  0.0  0.0  0.0  0.1  0.2  0.7  0.0  0.0\n",
              "3  0.0  0.0  1.0  0.0  0.0  0.0  0.0  0.0\n",
              "4  0.0  0.0  0.0  0.0  0.0  1.0  0.0  0.0\n",
              "5  0.0  0.0  0.0  0.0  0.0  0.0  1.0  0.0\n",
              "6  0.0  0.0  0.0  0.0  0.0  0.0  0.0  1.0\n",
              "7  0.0  0.0  0.0  0.0  0.0  0.0  0.0  0.0"
            ]
          },
          "metadata": {
            "tags": []
          }
        },
        {
          "output_type": "stream",
          "text": [
            "Przepustowość tej klasy lambda_ir =  [1.8 2.  0.2 0.4 1.8 1.8]\n",
            "\n",
            "\n",
            "---------------\n",
            "lambda =  1.2\n"
          ],
          "name": "stdout"
        },
        {
          "output_type": "display_data",
          "data": {
            "text/html": [
              "<div>\n",
              "<style scoped>\n",
              "    .dataframe tbody tr th:only-of-type {\n",
              "        vertical-align: middle;\n",
              "    }\n",
              "\n",
              "    .dataframe tbody tr th {\n",
              "        vertical-align: top;\n",
              "    }\n",
              "\n",
              "    .dataframe thead th {\n",
              "        text-align: right;\n",
              "    }\n",
              "</style>\n",
              "<table border=\"1\" class=\"dataframe\">\n",
              "  <thead>\n",
              "    <tr style=\"text-align: right;\">\n",
              "      <th></th>\n",
              "      <th>0</th>\n",
              "      <th>1</th>\n",
              "      <th>2</th>\n",
              "      <th>3</th>\n",
              "      <th>4</th>\n",
              "      <th>5</th>\n",
              "      <th>6</th>\n",
              "      <th>7</th>\n",
              "    </tr>\n",
              "  </thead>\n",
              "  <tbody>\n",
              "    <tr>\n",
              "      <th>0</th>\n",
              "      <td>0.0</td>\n",
              "      <td>1.0</td>\n",
              "      <td>0.0</td>\n",
              "      <td>0.0</td>\n",
              "      <td>0.0</td>\n",
              "      <td>0.0</td>\n",
              "      <td>0.0</td>\n",
              "      <td>0.0</td>\n",
              "    </tr>\n",
              "    <tr>\n",
              "      <th>1</th>\n",
              "      <td>0.0</td>\n",
              "      <td>0.0</td>\n",
              "      <td>1.0</td>\n",
              "      <td>0.0</td>\n",
              "      <td>0.0</td>\n",
              "      <td>0.0</td>\n",
              "      <td>0.0</td>\n",
              "      <td>0.0</td>\n",
              "    </tr>\n",
              "    <tr>\n",
              "      <th>2</th>\n",
              "      <td>0.0</td>\n",
              "      <td>0.0</td>\n",
              "      <td>0.0</td>\n",
              "      <td>0.1</td>\n",
              "      <td>0.9</td>\n",
              "      <td>0.0</td>\n",
              "      <td>0.0</td>\n",
              "      <td>0.0</td>\n",
              "    </tr>\n",
              "    <tr>\n",
              "      <th>3</th>\n",
              "      <td>0.0</td>\n",
              "      <td>0.0</td>\n",
              "      <td>1.0</td>\n",
              "      <td>0.0</td>\n",
              "      <td>0.0</td>\n",
              "      <td>0.0</td>\n",
              "      <td>0.0</td>\n",
              "      <td>0.0</td>\n",
              "    </tr>\n",
              "    <tr>\n",
              "      <th>4</th>\n",
              "      <td>0.0</td>\n",
              "      <td>0.0</td>\n",
              "      <td>0.0</td>\n",
              "      <td>0.0</td>\n",
              "      <td>0.0</td>\n",
              "      <td>1.0</td>\n",
              "      <td>0.0</td>\n",
              "      <td>0.0</td>\n",
              "    </tr>\n",
              "    <tr>\n",
              "      <th>5</th>\n",
              "      <td>0.0</td>\n",
              "      <td>0.0</td>\n",
              "      <td>0.0</td>\n",
              "      <td>0.0</td>\n",
              "      <td>0.0</td>\n",
              "      <td>0.0</td>\n",
              "      <td>1.0</td>\n",
              "      <td>0.0</td>\n",
              "    </tr>\n",
              "    <tr>\n",
              "      <th>6</th>\n",
              "      <td>0.0</td>\n",
              "      <td>0.0</td>\n",
              "      <td>0.0</td>\n",
              "      <td>0.0</td>\n",
              "      <td>0.0</td>\n",
              "      <td>0.0</td>\n",
              "      <td>0.0</td>\n",
              "      <td>1.0</td>\n",
              "    </tr>\n",
              "    <tr>\n",
              "      <th>7</th>\n",
              "      <td>0.0</td>\n",
              "      <td>0.0</td>\n",
              "      <td>0.0</td>\n",
              "      <td>0.0</td>\n",
              "      <td>0.0</td>\n",
              "      <td>0.0</td>\n",
              "      <td>0.0</td>\n",
              "      <td>0.0</td>\n",
              "    </tr>\n",
              "  </tbody>\n",
              "</table>\n",
              "</div>"
            ],
            "text/plain": [
              "     0    1    2    3    4    5    6    7\n",
              "0  0.0  1.0  0.0  0.0  0.0  0.0  0.0  0.0\n",
              "1  0.0  0.0  1.0  0.0  0.0  0.0  0.0  0.0\n",
              "2  0.0  0.0  0.0  0.1  0.9  0.0  0.0  0.0\n",
              "3  0.0  0.0  1.0  0.0  0.0  0.0  0.0  0.0\n",
              "4  0.0  0.0  0.0  0.0  0.0  1.0  0.0  0.0\n",
              "5  0.0  0.0  0.0  0.0  0.0  0.0  1.0  0.0\n",
              "6  0.0  0.0  0.0  0.0  0.0  0.0  0.0  1.0\n",
              "7  0.0  0.0  0.0  0.0  0.0  0.0  0.0  0.0"
            ]
          },
          "metadata": {
            "tags": []
          }
        },
        {
          "output_type": "stream",
          "text": [
            "Przepustowość tej klasy lambda_ir =  [1.2        1.33333333 0.13333333 1.2        1.2        1.2       ]\n",
            "\n",
            "\n",
            "---------------\n",
            "lambda =  1\n"
          ],
          "name": "stdout"
        },
        {
          "output_type": "display_data",
          "data": {
            "text/html": [
              "<div>\n",
              "<style scoped>\n",
              "    .dataframe tbody tr th:only-of-type {\n",
              "        vertical-align: middle;\n",
              "    }\n",
              "\n",
              "    .dataframe tbody tr th {\n",
              "        vertical-align: top;\n",
              "    }\n",
              "\n",
              "    .dataframe thead th {\n",
              "        text-align: right;\n",
              "    }\n",
              "</style>\n",
              "<table border=\"1\" class=\"dataframe\">\n",
              "  <thead>\n",
              "    <tr style=\"text-align: right;\">\n",
              "      <th></th>\n",
              "      <th>0</th>\n",
              "      <th>1</th>\n",
              "      <th>2</th>\n",
              "      <th>3</th>\n",
              "      <th>4</th>\n",
              "      <th>5</th>\n",
              "      <th>6</th>\n",
              "      <th>7</th>\n",
              "    </tr>\n",
              "  </thead>\n",
              "  <tbody>\n",
              "    <tr>\n",
              "      <th>0</th>\n",
              "      <td>0.0</td>\n",
              "      <td>1.0</td>\n",
              "      <td>0.0</td>\n",
              "      <td>0.0</td>\n",
              "      <td>0.0</td>\n",
              "      <td>0.0</td>\n",
              "      <td>0.0</td>\n",
              "      <td>0.0</td>\n",
              "    </tr>\n",
              "    <tr>\n",
              "      <th>1</th>\n",
              "      <td>0.0</td>\n",
              "      <td>0.0</td>\n",
              "      <td>1.0</td>\n",
              "      <td>0.0</td>\n",
              "      <td>0.0</td>\n",
              "      <td>0.0</td>\n",
              "      <td>0.0</td>\n",
              "      <td>0.0</td>\n",
              "    </tr>\n",
              "    <tr>\n",
              "      <th>2</th>\n",
              "      <td>0.0</td>\n",
              "      <td>0.0</td>\n",
              "      <td>0.0</td>\n",
              "      <td>0.1</td>\n",
              "      <td>0.7</td>\n",
              "      <td>0.2</td>\n",
              "      <td>0.0</td>\n",
              "      <td>0.0</td>\n",
              "    </tr>\n",
              "    <tr>\n",
              "      <th>3</th>\n",
              "      <td>0.0</td>\n",
              "      <td>0.0</td>\n",
              "      <td>1.0</td>\n",
              "      <td>0.0</td>\n",
              "      <td>0.0</td>\n",
              "      <td>0.0</td>\n",
              "      <td>0.0</td>\n",
              "      <td>0.0</td>\n",
              "    </tr>\n",
              "    <tr>\n",
              "      <th>4</th>\n",
              "      <td>0.0</td>\n",
              "      <td>0.0</td>\n",
              "      <td>0.0</td>\n",
              "      <td>0.0</td>\n",
              "      <td>0.0</td>\n",
              "      <td>1.0</td>\n",
              "      <td>0.0</td>\n",
              "      <td>0.0</td>\n",
              "    </tr>\n",
              "    <tr>\n",
              "      <th>5</th>\n",
              "      <td>0.0</td>\n",
              "      <td>0.0</td>\n",
              "      <td>0.0</td>\n",
              "      <td>0.0</td>\n",
              "      <td>0.0</td>\n",
              "      <td>0.0</td>\n",
              "      <td>1.0</td>\n",
              "      <td>0.0</td>\n",
              "    </tr>\n",
              "    <tr>\n",
              "      <th>6</th>\n",
              "      <td>0.0</td>\n",
              "      <td>0.0</td>\n",
              "      <td>0.0</td>\n",
              "      <td>0.0</td>\n",
              "      <td>0.0</td>\n",
              "      <td>0.0</td>\n",
              "      <td>0.0</td>\n",
              "      <td>1.0</td>\n",
              "    </tr>\n",
              "    <tr>\n",
              "      <th>7</th>\n",
              "      <td>0.0</td>\n",
              "      <td>0.0</td>\n",
              "      <td>0.0</td>\n",
              "      <td>0.0</td>\n",
              "      <td>0.0</td>\n",
              "      <td>0.0</td>\n",
              "      <td>0.0</td>\n",
              "      <td>0.0</td>\n",
              "    </tr>\n",
              "  </tbody>\n",
              "</table>\n",
              "</div>"
            ],
            "text/plain": [
              "     0    1    2    3    4    5    6    7\n",
              "0  0.0  1.0  0.0  0.0  0.0  0.0  0.0  0.0\n",
              "1  0.0  0.0  1.0  0.0  0.0  0.0  0.0  0.0\n",
              "2  0.0  0.0  0.0  0.1  0.7  0.2  0.0  0.0\n",
              "3  0.0  0.0  1.0  0.0  0.0  0.0  0.0  0.0\n",
              "4  0.0  0.0  0.0  0.0  0.0  1.0  0.0  0.0\n",
              "5  0.0  0.0  0.0  0.0  0.0  0.0  1.0  0.0\n",
              "6  0.0  0.0  0.0  0.0  0.0  0.0  0.0  1.0\n",
              "7  0.0  0.0  0.0  0.0  0.0  0.0  0.0  0.0"
            ]
          },
          "metadata": {
            "tags": []
          }
        },
        {
          "output_type": "stream",
          "text": [
            "Przepustowość tej klasy lambda_ir =  [1.         1.11111111 0.11111111 0.77777778 1.         1.        ]\n",
            "\n",
            "\n"
          ],
          "name": "stdout"
        }
      ]
    },
    {
      "cell_type": "markdown",
      "metadata": {
        "id": "9xnmva8E408y"
      },
      "source": [
        "#### Uzupełnianie lambdas_ir o systemy, ktore nie dotycza danej klasy \r\n",
        "\r\n"
      ]
    },
    {
      "cell_type": "code",
      "metadata": {
        "colab": {
          "base_uri": "https://localhost:8080/"
        },
        "id": "ewbBUvomCtUB",
        "outputId": "76a506ac-4531-4a74-c782-57402c87fd5d"
      },
      "source": [
        "lambdas_ir_arr = np.zeros((7, 3))\r\n",
        "lambdas_ir_arr"
      ],
      "execution_count": 13,
      "outputs": [
        {
          "output_type": "execute_result",
          "data": {
            "text/plain": [
              "array([[0., 0., 0.],\n",
              "       [0., 0., 0.],\n",
              "       [0., 0., 0.],\n",
              "       [0., 0., 0.],\n",
              "       [0., 0., 0.],\n",
              "       [0., 0., 0.],\n",
              "       [0., 0., 0.]])"
            ]
          },
          "metadata": {
            "tags": []
          },
          "execution_count": 13
        }
      ]
    },
    {
      "cell_type": "code",
      "metadata": {
        "id": "Wd37rIvjo17V",
        "colab": {
          "base_uri": "https://localhost:8080/"
        },
        "outputId": "87ab898f-08f0-4659-f2ba-a607fe1d2250"
      },
      "source": [
        "for i in range(7):\r\n",
        "  for r in range(3):\r\n",
        "    lambdas_i = lambdas_ir_list[r]\r\n",
        "    if r<=1: \r\n",
        "      #pasażerskie \r\n",
        "      if i < 5:\r\n",
        "        lambdas_ir_arr[i][r] = lambdas_i[i]\r\n",
        "      elif i == 5:\r\n",
        "        lambdas_ir_arr[6][r] = lambdas_i[i]\r\n",
        "\r\n",
        "    elif r==2: \r\n",
        "      #towarowe \r\n",
        "      if i < 4:\r\n",
        "        lambdas_ir_arr[i][r] = lambdas_i[i]\r\n",
        "      elif i >=4 and i <6 :\r\n",
        "        lambdas_ir_arr[i+1][r] = lambdas_i[i]\r\n",
        "\r\n",
        "lambdas_ir_arr"
      ],
      "execution_count": 14,
      "outputs": [
        {
          "output_type": "execute_result",
          "data": {
            "text/plain": [
              "array([[1.8       , 1.2       , 1.        ],\n",
              "       [2.        , 1.33333333, 1.11111111],\n",
              "       [0.2       , 0.13333333, 0.11111111],\n",
              "       [0.4       , 1.2       , 0.77777778],\n",
              "       [1.8       , 1.2       , 0.        ],\n",
              "       [0.        , 0.        , 1.        ],\n",
              "       [1.8       , 1.2       , 1.        ]])"
            ]
          },
          "metadata": {
            "tags": []
          },
          "execution_count": 14
        }
      ]
    },
    {
      "cell_type": "markdown",
      "metadata": {
        "id": "QYjeRSuzU90g"
      },
      "source": [
        "Zera w tabeli `lambdas_ir_arr` oznaczają, że klasa nie korzysta z tego systemu/stanowiska. \r\n",
        "\r\n"
      ]
    },
    {
      "cell_type": "markdown",
      "metadata": {
        "id": "LNidjybBxicX"
      },
      "source": [
        "## Liczba stanowisk: "
      ]
    },
    {
      "cell_type": "code",
      "metadata": {
        "id": "uAY0vWd111vx",
        "colab": {
          "base_uri": "https://localhost:8080/"
        },
        "outputId": "9a501362-9801-4d8b-9a38-b03af1a04c27"
      },
      "source": [
        "\r\n",
        "m_i = [2, #0 pasy ladowania\r\n",
        "       6, #1 przeglad\r\n",
        "       2, #2 serwisowe stanowska\r\n",
        "       5, #3 tankowanie\r\n",
        "       3, #4 pasazerowie\r\n",
        "       2, #5 towary\r\n",
        "       3]  #6 pasy wylotu\r\n",
        "\r\n",
        "\r\n",
        "len(m_i)\r\n"
      ],
      "execution_count": 15,
      "outputs": [
        {
          "output_type": "execute_result",
          "data": {
            "text/plain": [
              "7"
            ]
          },
          "metadata": {
            "tags": []
          },
          "execution_count": 15
        }
      ]
    },
    {
      "cell_type": "markdown",
      "metadata": {
        "id": "6XKuafSrVULp"
      },
      "source": [
        "Pewne przyjęte wartości mi dla każdej klasy `r` i stanowska `i`. "
      ]
    },
    {
      "cell_type": "code",
      "metadata": {
        "colab": {
          "base_uri": "https://localhost:8080/"
        },
        "id": "tXDdkWKk11zk",
        "outputId": "a86b7302-eca7-4ded-d6d7-0e7137bba2bf"
      },
      "source": [
        "# mi = 1/czas obslugi (h) \r\n",
        "\r\n",
        "mi_ir = np.zeros([7,3])\r\n",
        "mi_ir[0,:] = np.array([4, 4, 4])\r\n",
        "mi_ir[1,:] = np.array([1, 0.8, 1])\r\n",
        "mi_ir[2,:] = np.array([0.25, 0.2, 0.3])\r\n",
        "mi_ir[3,:] = np.array([3, 3/2, 2])\r\n",
        "mi_ir[4,:] = np.array([3/2, 1, 0])\r\n",
        "mi_ir[5,:] = np.array([0, 0, 2])\r\n",
        "mi_ir[6,:] = np.array([2, 2, 2])\r\n",
        "\r\n",
        "mi_ir"
      ],
      "execution_count": 16,
      "outputs": [
        {
          "output_type": "execute_result",
          "data": {
            "text/plain": [
              "array([[4.  , 4.  , 4.  ],\n",
              "       [1.  , 0.8 , 1.  ],\n",
              "       [0.25, 0.2 , 0.3 ],\n",
              "       [3.  , 1.5 , 2.  ],\n",
              "       [1.5 , 1.  , 0.  ],\n",
              "       [0.  , 0.  , 2.  ],\n",
              "       [2.  , 2.  , 2.  ]])"
            ]
          },
          "metadata": {
            "tags": []
          },
          "execution_count": 16
        }
      ]
    },
    {
      "cell_type": "markdown",
      "metadata": {
        "id": "Qt0Nexr3A-x2"
      },
      "source": [
        "##  Względna intensywność obsługi każdej klasy w każdym systemie `ro_ir`\r\n"
      ]
    },
    {
      "cell_type": "code",
      "metadata": {
        "id": "_qidpLKw12CN",
        "colab": {
          "base_uri": "https://localhost:8080/"
        },
        "outputId": "68a8b132-fff3-4aa0-d364-783facc3b454"
      },
      "source": [
        "ro_ir = np.zeros([7,3])\r\n",
        "\r\n",
        "\r\n",
        "for i in range(7):\r\n",
        "  for r in range(3):\r\n",
        "    ro_ir[i][r] = lambdas_ir_arr[i][r]/(m_i[i] * mi_ir[i][r])\r\n",
        "\r\n",
        "ro_ir"
      ],
      "execution_count": 17,
      "outputs": [
        {
          "output_type": "stream",
          "text": [
            "/usr/local/lib/python3.6/dist-packages/ipykernel_launcher.py:6: RuntimeWarning: invalid value encountered in double_scalars\n",
            "  \n"
          ],
          "name": "stderr"
        },
        {
          "output_type": "execute_result",
          "data": {
            "text/plain": [
              "array([[0.225     , 0.15      , 0.125     ],\n",
              "       [0.33333333, 0.27777778, 0.18518519],\n",
              "       [0.4       , 0.33333333, 0.18518519],\n",
              "       [0.02666667, 0.16      , 0.07777778],\n",
              "       [0.4       , 0.4       ,        nan],\n",
              "       [       nan,        nan, 0.25      ],\n",
              "       [0.3       , 0.2       , 0.16666667]])"
            ]
          },
          "metadata": {
            "tags": []
          },
          "execution_count": 17
        }
      ]
    },
    {
      "cell_type": "markdown",
      "metadata": {
        "id": "JjYwL86pVp2J"
      },
      "source": [
        ""
      ]
    },
    {
      "cell_type": "markdown",
      "metadata": {
        "id": "s7oE9RLWzMKQ"
      },
      "source": [
        "## Średni czas obsługi samoloty\r\n",
        "\r\n",
        "`nan` oznacza, że nie samoloty r-tej klasy nie są obługiwane przez i-te stanowsko"
      ]
    },
    {
      "cell_type": "code",
      "metadata": {
        "id": "qB7QF6Ln_iLU"
      },
      "source": [
        "def single_Q_ir(i, r, m_i, ro_i):\r\n",
        "    x = ro_ir[i][r]/(1-ro_i)\r\n",
        "    y = (m_i[i] * ro_i)**m_i[i]/(np.math.factorial(m_i[i])*(1-ro_i))\r\n",
        "\r\n",
        "    temp_list = [(m_i[i]*ro_i)**ki/np.math.factorial(ki) for ki in range(m_i[i]-1)]\r\n",
        "      \r\n",
        "    z = 1/(sum(temp_list) + (m_i[i]*ro_i)**m_i[i]/np.math.factorial(m_i[i]) * (1/(1-ro_i)))\r\n",
        "\r\n",
        "    return  x*z*y"
      ],
      "execution_count": 18,
      "outputs": []
    },
    {
      "cell_type": "code",
      "metadata": {
        "colab": {
          "base_uri": "https://localhost:8080/"
        },
        "id": "I9ERCIwEVEdV",
        "outputId": "63f67932-2012-41a9-917c-9275661d0a6b"
      },
      "source": [
        "Q_ir = np.zeros((7,3))\r\n",
        "\r\n",
        "for i in range(7):\r\n",
        "  ro_i = np.nan_to_num(ro_ir)[i].sum()\r\n",
        "  for r in range(3):\r\n",
        "    Q_ir[i][r] = single_Q_ir(i, r, m_i, ro_i)\r\n",
        "    # if r <2:\r\n",
        "    #   if i!= 5:\r\n",
        "    #     #pasazerskie bez towarow\r\n",
        "    #     Q_ir[i][r] = single_Q_ir(i, r, m_i, ro_i)\r\n",
        "    #   else:\r\n",
        "    #       Q_ir[i][r] = 0\r\n",
        "    # elif r==2:\r\n",
        "    #   if i!= 4:\r\n",
        "    #     print(ro_i, i)\r\n",
        "    #     #towarowe\r\n",
        "    #     Q_ir[i][r] = single_Q_ir(i, r, m_i, ro_i)\r\n",
        "    #   else:\r\n",
        "    #     Q_ir[i][r] = 0\r\n",
        "\r\n",
        "Q_ir\r\n"
      ],
      "execution_count": 19,
      "outputs": [
        {
          "output_type": "execute_result",
          "data": {
            "text/plain": [
              "array([[2.25000000e-01, 1.50000000e-01, 1.25000000e-01],\n",
              "       [9.60409250e-01, 8.00341042e-01, 5.33560694e-01],\n",
              "       [4.68295324e+00, 3.90246103e+00, 2.16803391e+00],\n",
              "       [4.57595849e-04, 2.74557510e-03, 1.33465456e-03],\n",
              "       [1.54423592e+00, 1.54423592e+00,            nan],\n",
              "       [           nan,            nan, 4.76190476e-02],\n",
              "       [5.14285714e-01, 3.42857143e-01, 2.85714286e-01]])"
            ]
          },
          "metadata": {
            "tags": []
          },
          "execution_count": 19
        }
      ]
    },
    {
      "cell_type": "markdown",
      "metadata": {
        "id": "aVdm0Q7WZfj0"
      },
      "source": [
        "## Średnie liczby zgłoszeń klasy `r` w każdym systemie `i`\r\n",
        "\r\n",
        "`nan` oznacza, że nie samoloty r-tej klasy nie są obługiwane przez i-te stanowsko\r\n",
        "\r\n"
      ]
    },
    {
      "cell_type": "code",
      "metadata": {
        "id": "TVFG34XM-MDk"
      },
      "source": [
        "K_ir = np.zeros((7,3))\r\n",
        "\r\n",
        "for i in range(7):\r\n",
        "  for r in range(3):\r\n",
        "    K_ir[i][r] = m_i[i]* ro_ir[i][r] + Q_ir[i][r]"
      ],
      "execution_count": 20,
      "outputs": []
    },
    {
      "cell_type": "code",
      "metadata": {
        "colab": {
          "base_uri": "https://localhost:8080/"
        },
        "id": "Us5IQccG-MIa",
        "outputId": "4aa76952-750e-46c2-bbe7-3bb53af7c5e2"
      },
      "source": [
        "K_ir"
      ],
      "execution_count": 21,
      "outputs": [
        {
          "output_type": "execute_result",
          "data": {
            "text/plain": [
              "array([[0.675     , 0.45      , 0.375     ],\n",
              "       [2.96040925, 2.46700771, 1.64467181],\n",
              "       [5.48295324, 4.5691277 , 2.53840428],\n",
              "       [0.13379093, 0.80274558, 0.39022354],\n",
              "       [2.74423592, 2.74423592,        nan],\n",
              "       [       nan,        nan, 0.54761905],\n",
              "       [1.41428571, 0.94285714, 0.78571429]])"
            ]
          },
          "metadata": {
            "tags": []
          },
          "execution_count": 21
        }
      ]
    },
    {
      "cell_type": "markdown",
      "metadata": {
        "id": "Ar4HWTZsEaM7"
      },
      "source": [
        "## OPTYMALIZACJA"
      ]
    },
    {
      "cell_type": "code",
      "metadata": {
        "colab": {
          "base_uri": "https://localhost:8080/"
        },
        "id": "cGiW5IXSFHrw",
        "outputId": "47911078-518a-4267-9f61-ec8b0785e944"
      },
      "source": [
        "m_nzi = []\r\n",
        "for i in range(7):\r\n",
        "  ro_i = np.nan_to_num(ro_ir)[i].sum()\r\n",
        "  m_nzi.append(m_i[i] - m_i[i]*ro_i)\r\n",
        "\r\n",
        "m_nzi"
      ],
      "execution_count": 22,
      "outputs": [
        {
          "output_type": "execute_result",
          "data": {
            "text/plain": [
              "[1.0,\n",
              " 1.2222222222222223,\n",
              " 0.16296296296296275,\n",
              " 3.6777777777777776,\n",
              " 0.5999999999999996,\n",
              " 1.5,\n",
              " 1.0]"
            ]
          },
          "metadata": {
            "tags": []
          },
          "execution_count": 22
        }
      ]
    },
    {
      "cell_type": "code",
      "metadata": {
        "colab": {
          "base_uri": "https://localhost:8080/"
        },
        "id": "wxav6HnYHv-v",
        "outputId": "eb9c9283-9f8c-4eda-8877-0788bead7a9a"
      },
      "source": [
        "C1_ij = np.random.normal(size=(7, 3))\r\n",
        "C1_ij"
      ],
      "execution_count": 23,
      "outputs": [
        {
          "output_type": "execute_result",
          "data": {
            "text/plain": [
              "array([[ 0.21892687, -0.29385536,  0.92102532],\n",
              "       [ 0.25791281, -1.17418658,  0.43563864],\n",
              "       [-1.67023453, -1.97976237, -0.06929701],\n",
              "       [ 0.59879992,  0.15867614,  0.70007869],\n",
              "       [-0.5715622 ,  1.12831726,  0.74172855],\n",
              "       [ 0.71509041, -0.8985788 ,  1.57869575],\n",
              "       [-0.95238804, -0.5674647 ,  1.19937942]])"
            ]
          },
          "metadata": {
            "tags": []
          },
          "execution_count": 23
        }
      ]
    },
    {
      "cell_type": "code",
      "metadata": {
        "colab": {
          "base_uri": "https://localhost:8080/"
        },
        "id": "WnlSeymgIF5q",
        "outputId": "71126354-5735-4c71-e75e-07751e840378"
      },
      "source": [
        "C2_i = abs(np.random.normal(size=(7)))\r\n",
        "\r\n",
        "C2_i"
      ],
      "execution_count": 25,
      "outputs": [
        {
          "output_type": "execute_result",
          "data": {
            "text/plain": [
              "array([0.71168876, 1.90030405, 2.01662988, 0.98227138, 0.36909825,\n",
              "       1.47454369, 0.03280761])"
            ]
          },
          "metadata": {
            "tags": []
          },
          "execution_count": 25
        }
      ]
    },
    {
      "cell_type": "markdown",
      "metadata": {
        "id": "o0dkdeOWZuIm"
      },
      "source": [
        "### Funcja kosztów do optymalizacji (min) "
      ]
    },
    {
      "cell_type": "code",
      "metadata": {
        "id": "U_DUC7lcEcB0"
      },
      "source": [
        "def f_cost(m_nzi, Q_ir, C1_ij, C2_i, r=3):\r\n",
        "  costs = np.zeros((len(m_nzi), r))\r\n",
        "  for i in range(len(m_nzi)):\r\n",
        "    for j in range(r):\r\n",
        "      costs[i][j] = C1_ij[i][j] * Q_ir[i][j] + C2_i[i] * m_nzi[i]\r\n",
        "\r\n",
        "  return sum(sum(np.nan_to_num(costs)))\r\n"
      ],
      "execution_count": 26,
      "outputs": []
    },
    {
      "cell_type": "code",
      "metadata": {
        "colab": {
          "base_uri": "https://localhost:8080/"
        },
        "id": "9fS0-06-GYA0",
        "outputId": "1d9783a1-40e3-48bc-9b7b-a0d09e1c25df"
      },
      "source": [
        "f_cost(m_nzi, Q_ir, C1_ij, C2_i)"
      ],
      "execution_count": 27,
      "outputs": [
        {
          "output_type": "execute_result",
          "data": {
            "text/plain": [
              "8.237427933030462"
            ]
          },
          "metadata": {
            "tags": []
          },
          "execution_count": 27
        }
      ]
    },
    {
      "cell_type": "code",
      "metadata": {
        "colab": {
          "base_uri": "https://localhost:8080/"
        },
        "id": "oYsZ1bWAGlDW",
        "outputId": "722696bf-d06c-4515-bb11-7c76095ce0a7"
      },
      "source": [
        "i = 2\r\n",
        "j = 2\r\n",
        "C1_ij[i][j] * Q_ir[i][j] + C2_i[i] * m_nzi[i]"
      ],
      "execution_count": 28,
      "outputs": [
        {
          "output_type": "execute_result",
          "data": {
            "text/plain": [
              "0.17839771910655985"
            ]
          },
          "metadata": {
            "tags": []
          },
          "execution_count": 28
        }
      ]
    },
    {
      "cell_type": "code",
      "metadata": {
        "colab": {
          "base_uri": "https://localhost:8080/"
        },
        "id": "X8qE0K5sJaea",
        "outputId": "f008d081-39bf-42f7-e1e5-a5db45124c49"
      },
      "source": [
        "C2_i[2]"
      ],
      "execution_count": 29,
      "outputs": [
        {
          "output_type": "execute_result",
          "data": {
            "text/plain": [
              "2.016629880838643"
            ]
          },
          "metadata": {
            "tags": []
          },
          "execution_count": 29
        }
      ]
    },
    {
      "cell_type": "code",
      "metadata": {
        "colab": {
          "base_uri": "https://localhost:8080/"
        },
        "id": "hj8ppRKOJlXu",
        "outputId": "b8690ad6-10ec-4108-96ef-b068bc74ed2d"
      },
      "source": [
        "C2_i"
      ],
      "execution_count": 30,
      "outputs": [
        {
          "output_type": "execute_result",
          "data": {
            "text/plain": [
              "array([0.71168876, 1.90030405, 2.01662988, 0.98227138, 0.36909825,\n",
              "       1.47454369, 0.03280761])"
            ]
          },
          "metadata": {
            "tags": []
          },
          "execution_count": 30
        }
      ]
    },
    {
      "cell_type": "code",
      "metadata": {
        "id": "L-0JhHQ8JtNt"
      },
      "source": [
        ""
      ],
      "execution_count": 30,
      "outputs": []
    }
  ]
}