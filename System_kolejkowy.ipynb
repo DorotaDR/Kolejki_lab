{
 "cells": [
  {
   "cell_type": "code",
   "execution_count": 1,
   "metadata": {},
   "outputs": [],
   "source": [
    "import numpy as np\n",
    "import queue\n",
    "import copy\n",
    "import matplotlib.pyplot as plt\n",
    "from itertools import combinations\n",
    "\n",
    "from scipy.special import binom\n",
    "from math import factorial\n"
   ]
  },
  {
   "cell_type": "code",
   "execution_count": 2,
   "metadata": {},
   "outputs": [],
   "source": [
    "m = 3  # kanały równoległę - lądowanie przeglad itd w jedno\n",
    "#\n",
    "# pasy przeznaczone do startu\n",
    "# pasy przeznaczone do lądowania\n",
    "# stanowiska przeglądu\n",
    "# stanowiska tankowania\n",
    "# stanowiska serwisu\n",
    "\n"
   ]
  },
  {
   "cell_type": "code",
   "execution_count": 28,
   "metadata": {},
   "outputs": [],
   "source": [
    "# ile samolotow na godz\n",
    "lambdas = []\n",
    "lambd = 2\n",
    "# intensywność\n",
    "mi_ = [2, 4, 6]\n",
    "ro_ = [lambd / mi for mi in mi_]\n",
    "\n"
   ]
  },
  {
   "cell_type": "code",
   "execution_count": 29,
   "metadata": {},
   "outputs": [],
   "source": [
    "def calculate_SK(k, ro_list):\n",
    "    sum_sk = 0\n",
    "\n",
    "    # k elementowe kobinacje bez powtorzen indeksow\n",
    "    comb = combinations(range(len(ro_list)), k)\n",
    "\n",
    "    # iloczyn\n",
    "    for pair in list(comb):\n",
    "        prod = 1\n",
    "        for elem_index in pair:\n",
    "            prod = prod * ro_list[elem_index]\n",
    "        # dodaj iloczyn do sumy\n",
    "        sum_sk += prod\n",
    "\n",
    "    return sum_sk\n",
    "\n",
    "    # prob_0 = ???"
   ]
  },
  {
   "cell_type": "code",
   "execution_count": 46,
   "metadata": {},
   "outputs": [],
   "source": [
    "def probability_k_in_sys(k, ro_list):\n",
    "    m = len(ro_list)\n",
    "    if k == 0:\n",
    "        if calculate_SK(m, ro_list)/calculate_SK(m - 1, ro_list) < 1:\n",
    "            val_to_sum = [calculate_SK(k, ro_list) / (factorial(k) * binom(m, k)) for k in range(m - 1)]\n",
    "            sum_ = sum(val_to_sum)\n",
    "            fraction = calculate_SK(m, ro_list) * calculate_SK(m - 1, ro_list) / (\n",
    "                    factorial(m) * (calculate_SK(m - 1, ro_list) - calculate_SK(m, ro_list)))\n",
    "            prob_k = 1 / (1 + sum_ + fraction)\n",
    "        else:\n",
    "            raise ValueError(\" SK m m > SK (m-1) m\")\n",
    "    elif k > 0 and k < m:\n",
    "        prob_k = probability_k_in_sys(0, ro_list) * calculate_SK(k, ro_list) / (factorial(k) * binom(m, k) ** (k - m))\n",
    "    else:\n",
    "        prob_k = probability_k_in_sys(0, ro_list) * calculate_SK(k, ro_list) / (\n",
    "                factorial(k) * calculate_SK(m - 1, ro_list) ** (k - m))\n",
    "    return prob_k"
   ]
  },
  {
   "cell_type": "code",
   "execution_count": 6,
   "metadata": {},
   "outputs": [],
   "source": [
    "def calculate_K(ro_list):\n",
    "    # Średnia liczba zgłoszeń w systemie:\n",
    "    m = len(ro_list)\n",
    "    tmp_numerator = probability_k_in_sys(0, ro_list) * calculate_SK(m - 1, ro_list)\n",
    "    tmp_denominator = factorial(m) * (calculate_SK(m - 1, ro_list) / calculate_SK(m, ro_list) - 1) ** 2\n",
    "\n",
    "    tmp_numerator_2 = m * probability_k_in_sys(m, ro_list)\n",
    "    tmp_denominator_2 = calculate_SK(m - 1, ro_list)\n",
    "\n",
    "    K = tmp_numerator / tmp_denominator + tmp_numerator_2 / tmp_denominator_2\n",
    "\n",
    "    return K"
   ]
  },
  {
   "cell_type": "code",
   "execution_count": 36,
   "metadata": {},
   "outputs": [],
   "source": [
    "def calculate_T(ro_list,lambd):\n",
    "    # Średni czas przebywania zgłoszenia w systemie:\n",
    "    K = calculate_K(ro_list)\n",
    "    T = K/lambd\n",
    "\n",
    "    return T"
   ]
  },
  {
   "cell_type": "code",
   "execution_count": 40,
   "metadata": {},
   "outputs": [],
   "source": [
    "def calculate_m0(ro_list,lambd):\n",
    "    # Średni liczba zajętych kanałów obsługi:\n",
    "    m = len(ro_list)\n",
    "    m0 = m*lambd/ sum(mi_)\n",
    "\n",
    "    return m0"
   ]
  },
  {
   "cell_type": "code",
   "execution_count": 47,
   "metadata": {},
   "outputs": [
    {
     "name": "stdout",
     "output_type": "stream",
     "text": [
      "0.37815126050420167\n",
      "0.5 0.034033613445378155 0.017016806722689078\n"
     ]
    }
   ],
   "source": [
    "prob = probability_k_in_sys(0, ro_)\n",
    "\n",
    "K = calculate_K(ro_)\n",
    "T = calculate_T(ro_, lambd)\n",
    "m0 = calculate_m0(ro_, lambd)\n",
    "print(prob)\n",
    "print(m0,K,T)\n"
   ]
  },
  {
   "cell_type": "code",
   "execution_count": 48,
   "metadata": {},
   "outputs": [
    {
     "data": {
      "text/plain": [
       "[<matplotlib.lines.Line2D at 0x26a791b25c8>]"
      ]
     },
     "execution_count": 48,
     "metadata": {},
     "output_type": "execute_result"
    },
    {
     "data": {
      "image/png": "[encoded data removed]",
      "text/plain": [
       "<Figure size 432x288 with 1 Axes>"
      ]
     },
     "metadata": {
      "needs_background": "light"
     },
     "output_type": "display_data"
    }
   ],
   "source": [
    "k_prob_list = [probability_k_in_sys(k, ro_) for k in range(10)]\n",
    "plt.plot(range(10), k_prob_list, 'o')"
   ]
  },
  {
   "cell_type": "code",
   "execution_count": null,
   "metadata": {},
   "outputs": [],
   "source": []
  }
 ],
 "metadata": {
  "kernelspec": {
   "display_name": "Python 3",
   "language": "python",
   "name": "python3"
  },
  "language_info": {
   "codemirror_mode": {
    "name": "ipython",
    "version": 3
   },
   "file_extension": ".py",
   "mimetype": "text/x-python",
   "name": "python",
   "nbconvert_exporter": "python",
   "pygments_lexer": "ipython3",
   "version": "3.7.4"
  }
 },
 "nbformat": 4,
 "nbformat_minor": 2
}
